{
 "cells": [
  {
   "cell_type": "markdown",
   "metadata": {},
   "source": [
    "# MuchLearningSuchWow - LSTM - Crossvalidation\n",
    "\n",
    "This notebook contains the code we used to run crossvalidation to find the best parameters for our network. The training code is based loosely on [this kernel](https://www.kaggle.com/bountyhunters/baseline-lstm-with-keras-0-7). The WRMSSE callback uses the same WRMSSE evaluator as the one used in `LSTM_Evaluation.ipynb`, which is based on [this discussion](https://www.kaggle.com/c/m5-forecasting-accuracy/discussion/133834). The Time Series Split used in this kernel was obtained from [this discussion](https://www.kaggle.com/mpearmain/extended-timeseriessplitter) from another Kaggle competition."
   ]
  },
  {
   "cell_type": "markdown",
   "metadata": {},
   "source": [
    "### Imports & Data Paths"
   ]
  },
  {
   "cell_type": "code",
   "execution_count": 1,
   "metadata": {},
   "outputs": [
    {
     "name": "stderr",
     "output_type": "stream",
     "text": [
      "Using TensorFlow backend.\n"
     ]
    }
   ],
   "source": [
    "import numpy as np\n",
    "import pandas as pd\n",
    "import pickle\n",
    "import gc\n",
    "\n",
    "from WRMSSEEvaluator import WRMSSEEvaluator\n",
    "from TimeSeriesSplit import TimeSeriesSplit\n",
    "\n",
    "from keras.models import Sequential\n",
    "from keras.layers import Dense, LSTM, Dropout, Conv1D\n",
    "from keras.utils import plot_model\n",
    "from keras.callbacks import ModelCheckpoint, Callback\n",
    "from keras.optimizers import Adam\n",
    "\n",
    "import keras.backend as K\n",
    "import matplotlib.pyplot as plt"
   ]
  },
  {
   "cell_type": "code",
   "execution_count": 2,
   "metadata": {},
   "outputs": [],
   "source": [
    "inputPath = \"input/m5-forecasting-accuracy/\"\n",
    "outputPath = \"output/\"\n",
    "modelPath = \"models/\""
   ]
  },
  {
   "cell_type": "markdown",
   "metadata": {},
   "source": [
    "### Constants"
   ]
  },
  {
   "cell_type": "code",
   "execution_count": 3,
   "metadata": {},
   "outputs": [],
   "source": [
    "timesteps = 14 # Number of previous days that will be used to predict the next day\n",
    "startDay = 1000 # Number of days at start of data that will be ignored during training\n",
    "testSize = 28 # Number of days that will be used as the test set for every fold"
   ]
  },
  {
   "cell_type": "markdown",
   "metadata": {},
   "source": [
    "### Loading Data"
   ]
  },
  {
   "cell_type": "code",
   "execution_count": 4,
   "metadata": {},
   "outputs": [],
   "source": [
    "with open(outputPath + \"/preprocessed_train_valid_data.pkl\", \"rb\") as f:\n",
    "    df_train_valid = pickle.load(f)\n",
    "with open(outputPath + \"/scaler.pkl\", \"rb\") as f:\n",
    "    scaler = pickle.load(f)"
   ]
  },
  {
   "cell_type": "code",
   "execution_count": 5,
   "metadata": {},
   "outputs": [
    {
     "name": "stdout",
     "output_type": "stream",
     "text": [
      "(913, 30504)\n"
     ]
    }
   ],
   "source": [
    "df_train = df_train_valid[:-28] # Remove Kaggle validation data\n",
    "del df_train_valid\n",
    "gc.collect()\n",
    "print(df_train.shape)"
   ]
  },
  {
   "cell_type": "code",
   "execution_count": 6,
   "metadata": {},
   "outputs": [],
   "source": [
    "df_train_scaled = scaler.transform(df_train) # Scale the training data"
   ]
  },
  {
   "cell_type": "markdown",
   "metadata": {},
   "source": [
    "### Create Training/Validation Data and Labels"
   ]
  },
  {
   "cell_type": "code",
   "execution_count": 7,
   "metadata": {},
   "outputs": [],
   "source": [
    "X_train = []\n",
    "y_train = []\n",
    "for i in range(timesteps, 1913 - startDay):\n",
    "    X_train.append(df_train_scaled[i-timesteps:i])\n",
    "    y_train.append(df_train_scaled[i][0:30490]) # Only use first 30490 columns (sales) as labels"
   ]
  },
  {
   "cell_type": "code",
   "execution_count": 8,
   "metadata": {},
   "outputs": [],
   "source": [
    "del df_train_scaled"
   ]
  },
  {
   "cell_type": "code",
   "execution_count": 9,
   "metadata": {},
   "outputs": [
    {
     "name": "stdout",
     "output_type": "stream",
     "text": [
      "(899, 14, 30504)\n",
      "(899, 30490)\n"
     ]
    }
   ],
   "source": [
    "# Convert data to np array to be able to feed it to the model\n",
    "X_train = np.array(X_train)\n",
    "y_train = np.array(y_train)\n",
    "print(X_train.shape)\n",
    "print(y_train.shape)"
   ]
  },
  {
   "cell_type": "markdown",
   "metadata": {},
   "source": [
    "### LSTM Model"
   ]
  },
  {
   "cell_type": "code",
   "execution_count": 10,
   "metadata": {},
   "outputs": [],
   "source": [
    "def create_LSTM():\n",
    "    model = Sequential()\n",
    "\n",
    "    # 1D convolution layer\n",
    "    model.add(Conv1D(filters=32, kernel_size=7, strides=1, padding=\"causal\", \n",
    "                     activation=\"relu\", input_shape=(X_train.shape[1], X_train.shape[2])))\n",
    "\n",
    "    # LSTM layers\n",
    "    layer_1_units=150\n",
    "    model.add(LSTM(units = layer_1_units, return_sequences = True))\n",
    "    model.add(Dropout(0.3))\n",
    "\n",
    "    layer_2_units=150\n",
    "    model.add(LSTM(units = layer_2_units, return_sequences = True))\n",
    "    model.add(Dropout(0.3))\n",
    "\n",
    "    layer_3_units=400\n",
    "    model.add(LSTM(units = layer_3_units))\n",
    "    model.add(Dropout(0.3))\n",
    "\n",
    "    # Output layer\n",
    "    model.add(Dense(units = 30490))\n",
    "    \n",
    "    return model"
   ]
  },
  {
   "cell_type": "code",
   "execution_count": 11,
   "metadata": {},
   "outputs": [
    {
     "name": "stdout",
     "output_type": "stream",
     "text": [
      "Model: \"sequential_1\"\n",
      "_________________________________________________________________\n",
      "Layer (type)                 Output Shape              Param #   \n",
      "=================================================================\n",
      "conv1d_1 (Conv1D)            (None, 14, 32)            6832928   \n",
      "_________________________________________________________________\n",
      "lstm_1 (LSTM)                (None, 14, 150)           109800    \n",
      "_________________________________________________________________\n",
      "dropout_1 (Dropout)          (None, 14, 150)           0         \n",
      "_________________________________________________________________\n",
      "lstm_2 (LSTM)                (None, 14, 150)           180600    \n",
      "_________________________________________________________________\n",
      "dropout_2 (Dropout)          (None, 14, 150)           0         \n",
      "_________________________________________________________________\n",
      "lstm_3 (LSTM)                (None, 400)               881600    \n",
      "_________________________________________________________________\n",
      "dropout_3 (Dropout)          (None, 400)               0         \n",
      "_________________________________________________________________\n",
      "dense_1 (Dense)              (None, 30490)             12226490  \n",
      "=================================================================\n",
      "Total params: 20,231,418\n",
      "Trainable params: 20,231,418\n",
      "Non-trainable params: 0\n",
      "_________________________________________________________________\n",
      "None\n"
     ]
    }
   ],
   "source": [
    "model = create_LSTM()\n",
    "plot_model(model, modelPath + \"/model.png\")\n",
    "print(model.summary())\n",
    "del model"
   ]
  },
  {
   "cell_type": "markdown",
   "metadata": {},
   "source": [
    "### WRMSSE Evaluation Callback"
   ]
  },
  {
   "cell_type": "code",
   "execution_count": 12,
   "metadata": {},
   "outputs": [],
   "source": [
    "class WRMSSECallback(Callback):\n",
    "    \n",
    "    def __init__( self, df_train_orginal, df_valid_original, df_calendar, df_prices, timesteps, \n",
    "                  input_data, scaler, nr_days_to_predict, additional_features, val_start_day):\n",
    "        # Create evaluator and set all values necessary for testing & evaluation\n",
    "        self.evaluator = WRMSSEEvaluator(df_train_orginal, df_valid_original, df_calendar, df_prices)\n",
    "        self.timesteps = timesteps\n",
    "        self.input_data = input_data\n",
    "        self.scaler = scaler\n",
    "        self.nr_days_to_predict = nr_days_to_predict\n",
    "        self.additional_features = additional_features\n",
    "        self.val_start_day = val_start_day\n",
    "        \n",
    "    def test_model( self, model ):\n",
    "        # Note: this function is identical to the one in LSTM_Testing.ipynb\n",
    "        \n",
    "        # Scale and convert input data so that it can be fed into the model\n",
    "        inputs = self.scaler.transform(self.input_data)\n",
    "        X_test = np.array([inputs])\n",
    "    \n",
    "        # Predict sales for the next nr_days_to_predict days\n",
    "        predictions = []\n",
    "        for j in range(0, self.nr_days_to_predict):\n",
    "            predicted_sales = model.predict(X_test[:,-self.timesteps:,:]\n",
    "                                                 .reshape(1, self.timesteps, 30490 + additional_features.shape[1]))\n",
    "            test_input = np.column_stack((np.array(predicted_sales), self.additional_features.iloc[[j]]))\n",
    "            test_input_expanded = np.expand_dims(test_input, 0)\n",
    "            X_test = np.append(X_test, test_input_expanded, axis = 1)\n",
    "            predicted_sales = self.scaler.inverse_transform(test_input)[:,0:30490]\n",
    "            predictions.append(predicted_sales)\n",
    "    \n",
    "        return predictions\n",
    "    \n",
    "    def evaluate( self, predictions ):\n",
    "        # Reshape predictions in order to feed them to the evaluator\n",
    "        predictions = pd.DataFrame(data=np.array(predictions).reshape(self.nr_days_to_predict,30490))\n",
    "        predictions = predictions.T\n",
    "        predictions.columns = [f\"d_{i}\" for i in range(self.val_start_day,self.val_start_day + self.nr_days_to_predict)]\n",
    "        \n",
    "        # Compute and return WRMSSE\n",
    "        groups, scores = self.evaluator.score(predictions)\n",
    "        wrmsse_score = np.mean(scores)\n",
    "        \n",
    "        return wrmsse_score\n",
    "    \n",
    "    def on_epoch_end( self, epoch, logs=None ):\n",
    "        logs = logs or {}\n",
    "        # Predict using the current state of the model, compute WRMSSE, add the result to the log and print it\n",
    "        predictions = self.test_model(self.model)\n",
    "        wrmsse_score = self.evaluate(predictions)\n",
    "        logs['val_wrmsse'] = wrmsse_score\n",
    "        print(\"Validation WRMSSE after epoch \"+str(epoch+1)+\": \"+str(wrmsse_score))"
   ]
  },
  {
   "cell_type": "code",
   "execution_count": 13,
   "metadata": {},
   "outputs": [
    {
     "name": "stdout",
     "output_type": "stream",
     "text": [
      "(30490, 1891)\n"
     ]
    }
   ],
   "source": [
    "# WRMSSE evaluator requires original, non-preprocessed data\n",
    "df_sales = pd.read_csv(inputPath + \"/sales_train_evaluation.csv\")\n",
    "df_calendar = pd.read_csv(inputPath + \"/calendar.csv\")\n",
    "df_prices = pd.read_csv(inputPath + \"/sell_prices.csv\")\n",
    "print(df_sales.iloc[:, :-28-28].shape)"
   ]
  },
  {
   "cell_type": "markdown",
   "metadata": {},
   "source": [
    "### Time Series Cross Validation"
   ]
  },
  {
   "cell_type": "code",
   "execution_count": 14,
   "metadata": {},
   "outputs": [],
   "source": [
    "# Define the loss function (RMSE)\n",
    "def root_mean_squared_error(y_true, y_pred):\n",
    "    return K.sqrt(K.mean(K.square(y_pred - y_true))) "
   ]
  },
  {
   "cell_type": "code",
   "execution_count": 15,
   "metadata": {},
   "outputs": [],
   "source": [
    "# Create time series splitter\n",
    "nr_folds = 5\n",
    "tss = TimeSeriesSplit(nr_folds, test_size=testSize)"
   ]
  },
  {
   "cell_type": "code",
   "execution_count": 16,
   "metadata": {},
   "outputs": [],
   "source": [
    "# Set number of epochs per fold and batch size\n",
    "nr_epochs = 25\n",
    "batch_size = 32"
   ]
  },
  {
   "cell_type": "code",
   "execution_count": 17,
   "metadata": {
    "scrolled": true
   },
   "outputs": [
    {
     "name": "stdout",
     "output_type": "stream",
     "text": [
      "Fold 1/5\n",
      "Creating WRMSSE callback...\n"
     ]
    },
    {
     "data": {
      "application/vnd.jupyter.widget-view+json": {
       "model_id": "f6eb2721105546aeb4a84f6f40f30569",
       "version_major": 2,
       "version_minor": 0
      },
      "text/plain": [
       "HBox(children=(FloatProgress(value=0.0, max=12.0), HTML(value='')))"
      ]
     },
     "metadata": {},
     "output_type": "display_data"
    },
    {
     "name": "stdout",
     "output_type": "stream",
     "text": [
      "\n",
      "Train on 275 samples, validate on 28 samples\n",
      "Epoch 1/25\n",
      "275/275 [==============================] - 9s 31ms/step - loss: 0.1568 - val_loss: 0.1448\n",
      "Validation WRMSSE after epoch 1: 1.5274189560963036\n",
      "Epoch 2/25\n",
      "275/275 [==============================] - 7s 26ms/step - loss: 0.1376 - val_loss: 0.1423\n",
      "Validation WRMSSE after epoch 2: 1.0231195685187233\n",
      "Epoch 3/25\n",
      "275/275 [==============================] - 7s 26ms/step - loss: 0.1356 - val_loss: 0.1423\n",
      "Validation WRMSSE after epoch 3: 1.091671933571398\n",
      "Epoch 4/25\n",
      "275/275 [==============================] - 7s 26ms/step - loss: 0.1351 - val_loss: 0.1419\n",
      "Validation WRMSSE after epoch 4: 0.9876781487473835\n",
      "Epoch 5/25\n",
      "275/275 [==============================] - 7s 26ms/step - loss: 0.1348 - val_loss: 0.1417\n",
      "Validation WRMSSE after epoch 5: 1.039015315175498\n",
      "Epoch 6/25\n",
      "275/275 [==============================] - 7s 26ms/step - loss: 0.1348 - val_loss: 0.1420\n",
      "Validation WRMSSE after epoch 6: 0.9253091550310466\n",
      "Epoch 7/25\n",
      "275/275 [==============================] - 7s 26ms/step - loss: 0.1345 - val_loss: 0.1415\n",
      "Validation WRMSSE after epoch 7: 0.9260785904996597\n",
      "Epoch 8/25\n",
      "275/275 [==============================] - 7s 26ms/step - loss: 0.1341 - val_loss: 0.1412\n",
      "Validation WRMSSE after epoch 8: 0.9075270102674234\n",
      "Epoch 9/25\n",
      "275/275 [==============================] - 7s 26ms/step - loss: 0.1326 - val_loss: 0.1407\n",
      "Validation WRMSSE after epoch 9: 0.9126445378418199\n",
      "Epoch 10/25\n",
      "275/275 [==============================] - 7s 26ms/step - loss: 0.1322 - val_loss: 0.1409\n",
      "Validation WRMSSE after epoch 10: 0.985345638154218\n",
      "Epoch 11/25\n",
      "275/275 [==============================] - 7s 26ms/step - loss: 0.1318 - val_loss: 0.1404\n",
      "Validation WRMSSE after epoch 11: 0.9231893645709565\n",
      "Epoch 12/25\n",
      "275/275 [==============================] - 7s 26ms/step - loss: 0.1312 - val_loss: 0.1395\n",
      "Validation WRMSSE after epoch 12: 0.9480868003009709\n",
      "Epoch 13/25\n",
      "275/275 [==============================] - 7s 26ms/step - loss: 0.1306 - val_loss: 0.1395\n",
      "Validation WRMSSE after epoch 13: 0.9647602133761229\n",
      "Epoch 14/25\n",
      "275/275 [==============================] - 7s 26ms/step - loss: 0.1297 - val_loss: 0.1399\n",
      "Validation WRMSSE after epoch 14: 0.9001311912164076\n",
      "Epoch 15/25\n",
      "275/275 [==============================] - 7s 26ms/step - loss: 0.1295 - val_loss: 0.1397\n",
      "Validation WRMSSE after epoch 15: 0.8608042144329526\n",
      "Epoch 16/25\n",
      "275/275 [==============================] - 7s 26ms/step - loss: 0.1290 - val_loss: 0.1392\n",
      "Validation WRMSSE after epoch 16: 1.0517319351707408\n",
      "Epoch 17/25\n",
      "275/275 [==============================] - 7s 26ms/step - loss: 0.1285 - val_loss: 0.1388\n",
      "Validation WRMSSE after epoch 17: 0.855817491021105\n",
      "Epoch 18/25\n",
      "275/275 [==============================] - 7s 26ms/step - loss: 0.1281 - val_loss: 0.1383\n",
      "Validation WRMSSE after epoch 18: 0.8613554337169136\n",
      "Epoch 19/25\n",
      "275/275 [==============================] - 7s 26ms/step - loss: 0.1278 - val_loss: 0.1384\n",
      "Validation WRMSSE after epoch 19: 0.910121898390536\n",
      "Epoch 20/25\n",
      "275/275 [==============================] - 8s 28ms/step - loss: 0.1276 - val_loss: 0.1397\n",
      "Validation WRMSSE after epoch 20: 0.7760395173322471\n",
      "Epoch 21/25\n",
      "275/275 [==============================] - 8s 28ms/step - loss: 0.1273 - val_loss: 0.1398\n",
      "Validation WRMSSE after epoch 21: 0.7748183904244149\n",
      "Epoch 22/25\n",
      "275/275 [==============================] - 7s 26ms/step - loss: 0.1273 - val_loss: 0.1391\n",
      "Validation WRMSSE after epoch 22: 1.015350926798152\n",
      "Epoch 23/25\n",
      "275/275 [==============================] - 7s 26ms/step - loss: 0.1270 - val_loss: 0.1385\n",
      "Validation WRMSSE after epoch 23: 0.814264112164914\n",
      "Epoch 24/25\n",
      "275/275 [==============================] - 7s 26ms/step - loss: 0.1267 - val_loss: 0.1389\n",
      "Validation WRMSSE after epoch 24: 0.7978798260150297\n",
      "Epoch 25/25\n",
      "275/275 [==============================] - 7s 26ms/step - loss: 0.1267 - val_loss: 0.1399\n",
      "Validation WRMSSE after epoch 25: 0.8418700044288382\n",
      "\n",
      "\n",
      "Fold 2/5\n",
      "Creating WRMSSE callback...\n"
     ]
    },
    {
     "data": {
      "application/vnd.jupyter.widget-view+json": {
       "model_id": "25963db751d347a1aedfa91e65d90ec7",
       "version_major": 2,
       "version_minor": 0
      },
      "text/plain": [
       "HBox(children=(FloatProgress(value=0.0, max=12.0), HTML(value='')))"
      ]
     },
     "metadata": {},
     "output_type": "display_data"
    },
    {
     "name": "stdout",
     "output_type": "stream",
     "text": [
      "\n",
      "Train on 424 samples, validate on 28 samples\n",
      "Epoch 1/25\n",
      "424/424 [==============================] - 12s 28ms/step - loss: 0.1519 - val_loss: 0.1446\n",
      "Validation WRMSSE after epoch 1: 1.1383862275976846\n",
      "Epoch 2/25\n",
      "424/424 [==============================] - 11s 26ms/step - loss: 0.1387 - val_loss: 0.1411\n",
      "Validation WRMSSE after epoch 2: 1.16597621647039\n",
      "Epoch 3/25\n",
      "424/424 [==============================] - 11s 26ms/step - loss: 0.1371 - val_loss: 0.1404\n",
      "Validation WRMSSE after epoch 3: 1.0659587619975845\n",
      "Epoch 4/25\n",
      "424/424 [==============================] - 11s 26ms/step - loss: 0.1364 - val_loss: 0.1393\n",
      "Validation WRMSSE after epoch 4: 1.0675272564761868\n",
      "Epoch 5/25\n",
      "424/424 [==============================] - 11s 26ms/step - loss: 0.1351 - val_loss: 0.1388\n",
      "Validation WRMSSE after epoch 5: 1.0796254768250262\n",
      "Epoch 6/25\n",
      "424/424 [==============================] - 11s 26ms/step - loss: 0.1342 - val_loss: 0.1385\n",
      "Validation WRMSSE after epoch 6: 1.0673741914081798\n",
      "Epoch 7/25\n",
      "424/424 [==============================] - 11s 26ms/step - loss: 0.1332 - val_loss: 0.1382\n",
      "Validation WRMSSE after epoch 7: 1.0830442973351506\n",
      "Epoch 8/25\n",
      "424/424 [==============================] - 11s 26ms/step - loss: 0.1325 - val_loss: 0.1376\n",
      "Validation WRMSSE after epoch 8: 1.0354505240360201\n",
      "Epoch 9/25\n",
      "424/424 [==============================] - 11s 26ms/step - loss: 0.1319 - val_loss: 0.1383\n",
      "Validation WRMSSE after epoch 9: 1.0730197361993803\n",
      "Epoch 10/25\n",
      "424/424 [==============================] - 11s 26ms/step - loss: 0.1315 - val_loss: 0.1391\n",
      "Validation WRMSSE after epoch 10: 1.1988232216044443\n",
      "Epoch 11/25\n",
      "424/424 [==============================] - 11s 26ms/step - loss: 0.1309 - val_loss: 0.1369\n",
      "Validation WRMSSE after epoch 11: 1.0135770411666136\n",
      "Epoch 12/25\n",
      "424/424 [==============================] - 11s 26ms/step - loss: 0.1302 - val_loss: 0.1372\n",
      "Validation WRMSSE after epoch 12: 1.0051949890690086\n",
      "Epoch 13/25\n",
      "424/424 [==============================] - 11s 26ms/step - loss: 0.1298 - val_loss: 0.1386\n",
      "Validation WRMSSE after epoch 13: 0.9886674297937815\n",
      "Epoch 14/25\n",
      "424/424 [==============================] - 11s 26ms/step - loss: 0.1294 - val_loss: 0.1382\n",
      "Validation WRMSSE after epoch 14: 1.1004161658884932\n",
      "Epoch 15/25\n",
      "424/424 [==============================] - 11s 26ms/step - loss: 0.1288 - val_loss: 0.1374\n",
      "Validation WRMSSE after epoch 15: 1.0895933409067993\n",
      "Epoch 16/25\n",
      "424/424 [==============================] - 11s 26ms/step - loss: 0.1285 - val_loss: 0.1383\n",
      "Validation WRMSSE after epoch 16: 0.9756554086809165\n",
      "Epoch 17/25\n",
      "424/424 [==============================] - 11s 26ms/step - loss: 0.1281 - val_loss: 0.1379\n",
      "Validation WRMSSE after epoch 17: 0.9570605470932626\n",
      "Epoch 18/25\n",
      "424/424 [==============================] - 11s 26ms/step - loss: 0.1279 - val_loss: 0.1385\n",
      "Validation WRMSSE after epoch 18: 1.0623551726177665\n",
      "Epoch 19/25\n",
      "424/424 [==============================] - 11s 26ms/step - loss: 0.1276 - val_loss: 0.1377\n",
      "Validation WRMSSE after epoch 19: 0.9365935066850545\n",
      "Epoch 20/25\n",
      "424/424 [==============================] - 11s 26ms/step - loss: 0.1274 - val_loss: 0.1393\n",
      "Validation WRMSSE after epoch 20: 1.0482525249844894\n",
      "Epoch 21/25\n",
      "424/424 [==============================] - 11s 25ms/step - loss: 0.1271 - val_loss: 0.1401\n",
      "Validation WRMSSE after epoch 21: 0.9690813016837372\n",
      "Epoch 22/25\n",
      "424/424 [==============================] - 11s 25ms/step - loss: 0.1272 - val_loss: 0.1400\n",
      "Validation WRMSSE after epoch 22: 1.0551124628925113\n",
      "Epoch 23/25\n",
      "424/424 [==============================] - 11s 25ms/step - loss: 0.1269 - val_loss: 0.1383\n",
      "Validation WRMSSE after epoch 23: 0.9578282218841583\n",
      "Epoch 24/25\n",
      "424/424 [==============================] - 11s 25ms/step - loss: 0.1269 - val_loss: 0.1395\n",
      "Validation WRMSSE after epoch 24: 0.9941788708081147\n",
      "Epoch 25/25\n",
      "424/424 [==============================] - 11s 25ms/step - loss: 0.1266 - val_loss: 0.1399\n",
      "Validation WRMSSE after epoch 25: 1.0330532955458889\n",
      "\n",
      "\n",
      "Fold 3/5\n",
      "Creating WRMSSE callback...\n"
     ]
    },
    {
     "data": {
      "application/vnd.jupyter.widget-view+json": {
       "model_id": "994a1413b62542cc99c7f9adb8468a63",
       "version_major": 2,
       "version_minor": 0
      },
      "text/plain": [
       "HBox(children=(FloatProgress(value=0.0, max=12.0), HTML(value='')))"
      ]
     },
     "metadata": {},
     "output_type": "display_data"
    },
    {
     "name": "stdout",
     "output_type": "stream",
     "text": [
      "\n",
      "Train on 573 samples, validate on 28 samples\n",
      "Epoch 1/25\n",
      "573/573 [==============================] - 15s 26ms/step - loss: 0.1503 - val_loss: 0.1492\n",
      "Validation WRMSSE after epoch 1: 1.2185908342394216\n",
      "Epoch 2/25\n",
      "573/573 [==============================] - 14s 25ms/step - loss: 0.1393 - val_loss: 0.1483\n",
      "Validation WRMSSE after epoch 2: 0.9928016107883018\n",
      "Epoch 3/25\n",
      "573/573 [==============================] - 14s 25ms/step - loss: 0.1388 - val_loss: 0.1483\n",
      "Validation WRMSSE after epoch 3: 1.2462490005558504\n",
      "Epoch 4/25\n",
      "573/573 [==============================] - 14s 25ms/step - loss: 0.1383 - val_loss: 0.1473\n",
      "Validation WRMSSE after epoch 4: 0.9962886813865041\n",
      "Epoch 5/25\n",
      "573/573 [==============================] - 14s 25ms/step - loss: 0.1369 - val_loss: 0.1467\n",
      "Validation WRMSSE after epoch 5: 1.0329959704764196\n",
      "Epoch 6/25\n",
      "573/573 [==============================] - 14s 24ms/step - loss: 0.1367 - val_loss: 0.1460\n",
      "Validation WRMSSE after epoch 6: 0.9464738336319135\n",
      "Epoch 7/25\n",
      "573/573 [==============================] - 14s 25ms/step - loss: 0.1359 - val_loss: 0.1452\n",
      "Validation WRMSSE after epoch 7: 0.9117589662721252\n",
      "Epoch 8/25\n",
      "573/573 [==============================] - 14s 25ms/step - loss: 0.1350 - val_loss: 0.1460\n",
      "Validation WRMSSE after epoch 8: 1.0688886775945778\n",
      "Epoch 9/25\n",
      "573/573 [==============================] - 14s 25ms/step - loss: 0.1342 - val_loss: 0.1456\n",
      "Validation WRMSSE after epoch 9: 0.8736241832495888\n",
      "Epoch 10/25\n",
      "573/573 [==============================] - 14s 25ms/step - loss: 0.1336 - val_loss: 0.1451\n",
      "Validation WRMSSE after epoch 10: 0.9499744249543188\n",
      "Epoch 11/25\n",
      "573/573 [==============================] - 14s 25ms/step - loss: 0.1328 - val_loss: 0.1450\n",
      "Validation WRMSSE after epoch 11: 0.7710113340833656\n",
      "Epoch 12/25\n",
      "573/573 [==============================] - 15s 25ms/step - loss: 0.1322 - val_loss: 0.1456\n",
      "Validation WRMSSE after epoch 12: 0.7918164172309569\n",
      "Epoch 13/25\n",
      "573/573 [==============================] - 14s 25ms/step - loss: 0.1320 - val_loss: 0.1444\n",
      "Validation WRMSSE after epoch 13: 0.8959001520556814\n",
      "Epoch 14/25\n",
      "573/573 [==============================] - 14s 25ms/step - loss: 0.1320 - val_loss: 0.1445\n",
      "Validation WRMSSE after epoch 14: 0.8368140442151191\n",
      "Epoch 15/25\n",
      "573/573 [==============================] - 14s 25ms/step - loss: 0.1315 - val_loss: 0.1439\n",
      "Validation WRMSSE after epoch 15: 0.8126758952688\n",
      "Epoch 16/25\n",
      "573/573 [==============================] - 14s 25ms/step - loss: 0.1312 - val_loss: 0.1441\n",
      "Validation WRMSSE after epoch 16: 0.8155036891397308\n",
      "Epoch 17/25\n",
      "573/573 [==============================] - 15s 26ms/step - loss: 0.1309 - val_loss: 0.1447\n",
      "Validation WRMSSE after epoch 17: 0.8211907022762298\n",
      "Epoch 18/25\n",
      "573/573 [==============================] - 14s 25ms/step - loss: 0.1305 - val_loss: 0.1448\n",
      "Validation WRMSSE after epoch 18: 0.767130381266688\n",
      "Epoch 19/25\n",
      "573/573 [==============================] - 14s 25ms/step - loss: 0.1303 - val_loss: 0.1444\n",
      "Validation WRMSSE after epoch 19: 0.8357101468906246\n",
      "Epoch 20/25\n",
      "573/573 [==============================] - 14s 25ms/step - loss: 0.1303 - val_loss: 0.1435\n",
      "Validation WRMSSE after epoch 20: 0.75086772183493\n",
      "Epoch 21/25\n",
      "573/573 [==============================] - 14s 25ms/step - loss: 0.1302 - val_loss: 0.1439\n",
      "Validation WRMSSE after epoch 21: 0.8772648407315486\n",
      "Epoch 22/25\n",
      "573/573 [==============================] - 14s 25ms/step - loss: 0.1304 - val_loss: 0.1438\n",
      "Validation WRMSSE after epoch 22: 0.8948620841683673\n",
      "Epoch 23/25\n",
      "573/573 [==============================] - 14s 25ms/step - loss: 0.1300 - val_loss: 0.1451\n",
      "Validation WRMSSE after epoch 23: 0.7484076256407842\n",
      "Epoch 24/25\n",
      "573/573 [==============================] - 14s 25ms/step - loss: 0.1295 - val_loss: 0.1445\n",
      "Validation WRMSSE after epoch 24: 0.8318634318143302\n",
      "Epoch 25/25\n",
      "573/573 [==============================] - 14s 25ms/step - loss: 0.1296 - val_loss: 0.1449\n",
      "Validation WRMSSE after epoch 25: 0.8559287386692581\n",
      "\n",
      "\n",
      "Fold 4/5\n",
      "Creating WRMSSE callback...\n"
     ]
    },
    {
     "data": {
      "application/vnd.jupyter.widget-view+json": {
       "model_id": "bb1efbf4424949adb2b3ffc3c3001375",
       "version_major": 2,
       "version_minor": 0
      },
      "text/plain": [
       "HBox(children=(FloatProgress(value=0.0, max=12.0), HTML(value='')))"
      ]
     },
     "metadata": {},
     "output_type": "display_data"
    },
    {
     "name": "stdout",
     "output_type": "stream",
     "text": [
      "\n",
      "Train on 722 samples, validate on 28 samples\n",
      "Epoch 1/25\n",
      "722/722 [==============================] - 19s 27ms/step - loss: 0.1520 - val_loss: 0.1517\n",
      "Validation WRMSSE after epoch 1: 1.4266029963673779\n",
      "Epoch 2/25\n",
      "722/722 [==============================] - 18s 26ms/step - loss: 0.1419 - val_loss: 0.1501\n",
      "Validation WRMSSE after epoch 2: 1.2162128042914915\n",
      "Epoch 3/25\n",
      "722/722 [==============================] - 18s 26ms/step - loss: 0.1402 - val_loss: 0.1477\n",
      "Validation WRMSSE after epoch 3: 1.126167529983953\n",
      "Epoch 4/25\n",
      "722/722 [==============================] - 20s 27ms/step - loss: 0.1389 - val_loss: 0.1475\n",
      "Validation WRMSSE after epoch 4: 1.0916214742400314\n",
      "Epoch 5/25\n",
      "722/722 [==============================] - 19s 26ms/step - loss: 0.1379 - val_loss: 0.1475\n",
      "Validation WRMSSE after epoch 5: 1.1126069802613714\n",
      "Epoch 6/25\n",
      "722/722 [==============================] - 19s 26ms/step - loss: 0.1375 - val_loss: 0.1475\n",
      "Validation WRMSSE after epoch 6: 1.1758783887442206\n",
      "Epoch 7/25\n",
      "722/722 [==============================] - 18s 25ms/step - loss: 0.1366 - val_loss: 0.1468\n",
      "Validation WRMSSE after epoch 7: 0.9881449597037375\n",
      "Epoch 8/25\n",
      "722/722 [==============================] - 18s 25ms/step - loss: 0.1358 - val_loss: 0.1472\n",
      "Validation WRMSSE after epoch 8: 1.3429118134949922\n",
      "Epoch 9/25\n",
      "722/722 [==============================] - 18s 25ms/step - loss: 0.1349 - val_loss: 0.1461\n",
      "Validation WRMSSE after epoch 9: 0.9746629096933503\n",
      "Epoch 10/25\n",
      "722/722 [==============================] - 18s 25ms/step - loss: 0.1342 - val_loss: 0.1455\n",
      "Validation WRMSSE after epoch 10: 0.9579722889985133\n",
      "Epoch 11/25\n",
      "722/722 [==============================] - 18s 25ms/step - loss: 0.1337 - val_loss: 0.1463\n",
      "Validation WRMSSE after epoch 11: 1.1028679364860106\n",
      "Epoch 12/25\n",
      "722/722 [==============================] - 18s 25ms/step - loss: 0.1334 - val_loss: 0.1451\n",
      "Validation WRMSSE after epoch 12: 1.0016127817409555\n",
      "Epoch 13/25\n",
      "722/722 [==============================] - 18s 25ms/step - loss: 0.1333 - val_loss: 0.1457\n",
      "Validation WRMSSE after epoch 13: 0.8855824417412798\n",
      "Epoch 14/25\n",
      "722/722 [==============================] - 18s 25ms/step - loss: 0.1329 - val_loss: 0.1454\n",
      "Validation WRMSSE after epoch 14: 1.1048011368403652\n",
      "Epoch 15/25\n",
      "722/722 [==============================] - 18s 25ms/step - loss: 0.1325 - val_loss: 0.1451\n",
      "Validation WRMSSE after epoch 15: 0.925738789471053\n",
      "Epoch 16/25\n",
      "722/722 [==============================] - 18s 25ms/step - loss: 0.1323 - val_loss: 0.1449\n",
      "Validation WRMSSE after epoch 16: 0.9265948446213259\n",
      "Epoch 17/25\n",
      "722/722 [==============================] - 18s 25ms/step - loss: 0.1319 - val_loss: 0.1445\n",
      "Validation WRMSSE after epoch 17: 0.8826911875857425\n",
      "Epoch 18/25\n",
      "722/722 [==============================] - 18s 25ms/step - loss: 0.1316 - val_loss: 0.1441\n",
      "Validation WRMSSE after epoch 18: 0.8852578458469132\n",
      "Epoch 19/25\n",
      "722/722 [==============================] - 18s 25ms/step - loss: 0.1313 - val_loss: 0.1439\n",
      "Validation WRMSSE after epoch 19: 0.8848146655681073\n",
      "Epoch 20/25\n",
      "722/722 [==============================] - 18s 25ms/step - loss: 0.1312 - val_loss: 0.1436\n",
      "Validation WRMSSE after epoch 20: 0.9261152490983448\n",
      "Epoch 21/25\n",
      "722/722 [==============================] - 18s 25ms/step - loss: 0.1310 - val_loss: 0.1437\n",
      "Validation WRMSSE after epoch 21: 0.9330055855551321\n",
      "Epoch 22/25\n",
      "722/722 [==============================] - 18s 25ms/step - loss: 0.1308 - val_loss: 0.1439\n",
      "Validation WRMSSE after epoch 22: 0.9239849368948607\n",
      "Epoch 23/25\n",
      "722/722 [==============================] - 18s 25ms/step - loss: 0.1307 - val_loss: 0.1444\n",
      "Validation WRMSSE after epoch 23: 1.0977099637796557\n",
      "Epoch 24/25\n",
      "722/722 [==============================] - 18s 25ms/step - loss: 0.1304 - val_loss: 0.1433\n",
      "Validation WRMSSE after epoch 24: 0.8359133058071495\n",
      "Epoch 25/25\n",
      "722/722 [==============================] - 18s 25ms/step - loss: 0.1302 - val_loss: 0.1431\n",
      "Validation WRMSSE after epoch 25: 0.8800234291574474\n",
      "\n",
      "\n",
      "Fold 5/5\n",
      "Creating WRMSSE callback...\n"
     ]
    },
    {
     "data": {
      "application/vnd.jupyter.widget-view+json": {
       "model_id": "e96a82d0cf0b42d4850a8b3b86796179",
       "version_major": 2,
       "version_minor": 0
      },
      "text/plain": [
       "HBox(children=(FloatProgress(value=0.0, max=12.0), HTML(value='')))"
      ]
     },
     "metadata": {},
     "output_type": "display_data"
    },
    {
     "name": "stdout",
     "output_type": "stream",
     "text": [
      "\n",
      "Train on 871 samples, validate on 28 samples\n",
      "Epoch 1/25\n",
      "871/871 [==============================] - 22s 26ms/step - loss: 0.1521 - val_loss: 0.1596\n",
      "Validation WRMSSE after epoch 1: 1.3723751252822225\n",
      "Epoch 2/25\n",
      "871/871 [==============================] - 22s 25ms/step - loss: 0.1433 - val_loss: 0.1572\n",
      "Validation WRMSSE after epoch 2: 1.3075461561809878\n",
      "Epoch 3/25\n",
      "871/871 [==============================] - 21s 25ms/step - loss: 0.1414 - val_loss: 0.1577\n",
      "Validation WRMSSE after epoch 3: 1.4580251425184614\n",
      "Epoch 4/25\n",
      "871/871 [==============================] - 21s 25ms/step - loss: 0.1406 - val_loss: 0.1558\n",
      "Validation WRMSSE after epoch 4: 1.0854939325892805\n",
      "Epoch 5/25\n",
      "871/871 [==============================] - 22s 25ms/step - loss: 0.1394 - val_loss: 0.1555\n",
      "Validation WRMSSE after epoch 5: 1.132233387136064\n",
      "Epoch 6/25\n",
      "871/871 [==============================] - 22s 25ms/step - loss: 0.1383 - val_loss: 0.1550\n",
      "Validation WRMSSE after epoch 6: 0.9225330077137405\n",
      "Epoch 7/25\n",
      "871/871 [==============================] - 21s 25ms/step - loss: 0.1372 - val_loss: 0.1553\n",
      "Validation WRMSSE after epoch 7: 0.8509285247785838\n",
      "Epoch 8/25\n",
      "871/871 [==============================] - 22s 25ms/step - loss: 0.1364 - val_loss: 0.1558\n",
      "Validation WRMSSE after epoch 8: 0.8252439550835978\n",
      "Epoch 9/25\n",
      "871/871 [==============================] - 22s 26ms/step - loss: 0.1359 - val_loss: 0.1545\n",
      "Validation WRMSSE after epoch 9: 0.772148856663883\n",
      "Epoch 10/25\n",
      "871/871 [==============================] - 22s 25ms/step - loss: 0.1355 - val_loss: 0.1561\n",
      "Validation WRMSSE after epoch 10: 1.1705040966800782\n",
      "Epoch 11/25\n",
      "871/871 [==============================] - 22s 25ms/step - loss: 0.1351 - val_loss: 0.1540\n",
      "Validation WRMSSE after epoch 11: 0.8474394966619854\n",
      "Epoch 12/25\n",
      "871/871 [==============================] - 22s 26ms/step - loss: 0.1347 - val_loss: 0.1542\n",
      "Validation WRMSSE after epoch 12: 0.8212242113277753\n",
      "Epoch 13/25\n",
      "871/871 [==============================] - 22s 25ms/step - loss: 0.1343 - val_loss: 0.1563\n",
      "Validation WRMSSE after epoch 13: 0.9164009839902029\n",
      "Epoch 14/25\n",
      "871/871 [==============================] - 22s 25ms/step - loss: 0.1340 - val_loss: 0.1537\n",
      "Validation WRMSSE after epoch 14: 0.8662911001831312\n",
      "Epoch 15/25\n",
      "871/871 [==============================] - 22s 26ms/step - loss: 0.1337 - val_loss: 0.1534\n",
      "Validation WRMSSE after epoch 15: 1.065543688306123\n",
      "Epoch 16/25\n",
      "871/871 [==============================] - 22s 26ms/step - loss: 0.1335 - val_loss: 0.1558\n",
      "Validation WRMSSE after epoch 16: 0.8388371024482598\n",
      "Epoch 17/25\n",
      "871/871 [==============================] - 22s 26ms/step - loss: 0.1333 - val_loss: 0.1541\n",
      "Validation WRMSSE after epoch 17: 0.8170859574447724\n",
      "Epoch 18/25\n",
      "871/871 [==============================] - 22s 26ms/step - loss: 0.1331 - val_loss: 0.1533\n",
      "Validation WRMSSE after epoch 18: 1.094353430493235\n",
      "Epoch 19/25\n",
      "871/871 [==============================] - 23s 26ms/step - loss: 0.1328 - val_loss: 0.1551\n",
      "Validation WRMSSE after epoch 19: 1.0087935584683936\n",
      "Epoch 20/25\n",
      "871/871 [==============================] - 24s 28ms/step - loss: 0.1328 - val_loss: 0.1537\n",
      "Validation WRMSSE after epoch 20: 0.8666768516621315\n",
      "Epoch 21/25\n",
      "871/871 [==============================] - 23s 26ms/step - loss: 0.1325 - val_loss: 0.1575\n",
      "Validation WRMSSE after epoch 21: 1.0172497477872722\n",
      "Epoch 22/25\n",
      "871/871 [==============================] - 22s 26ms/step - loss: 0.1322 - val_loss: 0.1577\n",
      "Validation WRMSSE after epoch 22: 1.327720815570455\n",
      "Epoch 23/25\n",
      "871/871 [==============================] - 23s 26ms/step - loss: 0.1320 - val_loss: 0.1557\n",
      "Validation WRMSSE after epoch 23: 1.083818145262975\n",
      "Epoch 24/25\n",
      "871/871 [==============================] - 22s 26ms/step - loss: 0.1318 - val_loss: 0.1559\n",
      "Validation WRMSSE after epoch 24: 0.920349525462877\n",
      "Epoch 25/25\n",
      "871/871 [==============================] - 22s 25ms/step - loss: 0.1317 - val_loss: 0.1528\n",
      "Validation WRMSSE after epoch 25: 0.8784145046059636\n",
      "\n",
      "\n"
     ]
    }
   ],
   "source": [
    "# Cross Validation Loop\n",
    "histories = []\n",
    "for fold, (train_index, test_index) in enumerate(tss.split(X_train)):\n",
    "    # Change fold from index to number and print the current fold\n",
    "    fold += 1\n",
    "    print(\"Fold \"+str(fold)+\"/\"+str(nr_folds))\n",
    "    \n",
    "    # Split the data\n",
    "    X_train_split, X_test_split = X_train[train_index], X_train[test_index]\n",
    "    y_train_split, y_test_split = y_train[train_index], y_train[test_index]\n",
    "    \n",
    "    # Create a new model\n",
    "    model = create_LSTM()\n",
    "    \n",
    "    # Compile the model\n",
    "    model.compile(optimizer = Adam(learning_rate=0.001), loss = root_mean_squared_error)\n",
    "    \n",
    "    # Create WRMSSE evaluation callback\n",
    "    val_start_day = startDay+len(train_index)+timesteps+1\n",
    "    df_train_original = df_sales # df_sales.iloc[:, :val_start_day+5] only seems to work for the final fold...\n",
    "    df_valid_original = df_sales.iloc[:, val_start_day+5:val_start_day+5+testSize]\n",
    "    input_data = df_train[len(train_index):len(train_index)+timesteps]\n",
    "    additional_features = df_train[len(train_index)+timesteps:len(train_index)+timesteps+testSize].iloc[:, 30490:]\n",
    "    print(\"Creating WRMSSE callback...\")\n",
    "    wrmsse_valid = WRMSSECallback( df_train_original, df_valid_original, df_calendar, df_prices,\n",
    "                                   timesteps, input_data, scaler, testSize, additional_features, val_start_day)\n",
    "    \n",
    "    # Create callbacks that save the models with the lowest validation loss and WRMSSE score\n",
    "    mcp_save_loss = ModelCheckpoint(modelPath + \"/lstm_model_best_loss_\"+str(fold), \n",
    "                                    save_best_only=True, monitor='val_loss', mode='min')\n",
    "    mcp_save_wrmsse = ModelCheckpoint(modelPath + \"/lstm_model_best_wrmsse_\"+str(fold), \n",
    "                                      save_best_only=True, monitor='val_wrmsse', mode='min')\n",
    "        \n",
    "    # Fit the model\n",
    "    hist = model.fit(X_train_split, y_train_split, \n",
    "                     epochs = nr_epochs, \n",
    "                     validation_data = (X_test_split, y_test_split), \n",
    "                     batch_size = batch_size, \n",
    "                     verbose = 1,\n",
    "                     callbacks = [wrmsse_valid, mcp_save_loss, mcp_save_wrmsse])\n",
    "    \n",
    "    # Save the final model\n",
    "    model.save(modelPath + \"/lstm_model_final_\"+str(fold))\n",
    "    \n",
    "    # Store history and perform garbage collection\n",
    "    histories.append(hist)\n",
    "    del model\n",
    "    del X_train_split\n",
    "    del y_train_split\n",
    "    del X_test_split\n",
    "    del y_test_split\n",
    "    del val_start_day\n",
    "    del df_train_original\n",
    "    del df_valid_original\n",
    "    del input_data\n",
    "    del additional_features\n",
    "    del wrmsse_valid\n",
    "    del mcp_save_loss\n",
    "    del mcp_save_wrmsse\n",
    "    gc.collect()\n",
    "    print(\"\\n\")"
   ]
  },
  {
   "cell_type": "markdown",
   "metadata": {},
   "source": [
    "### Plotting Losses"
   ]
  },
  {
   "cell_type": "code",
   "execution_count": 18,
   "metadata": {},
   "outputs": [],
   "source": [
    "def plot_loss(train_losses, val_losses, nr_epochs, title):\n",
    "    plt.style.use('ggplot')\n",
    "    plt.figure()\n",
    "    plt.plot(np.arange(1, nr_epochs+1), np.mean(train_losses, axis = 0), label='train_loss')\n",
    "    plt.plot(np.arange(1, nr_epochs+1), np.mean(val_losses, axis = 0), label='val_loss')\n",
    "    \n",
    "    plt.title(title)\n",
    "    plt.xlabel('Epoch #')\n",
    "    plt.ylabel('Loss')\n",
    "    plt.legend(loc='upper right')\n",
    "    plt.show()\n",
    "    \n",
    "def plot_wrmsse(val_wrmsses, nr_epochs, title):\n",
    "    plt.style.use('ggplot')\n",
    "    plt.figure()\n",
    "    plt.plot(np.arange(1, nr_epochs+1), np.mean(val_wrmsses, axis = 0), label='val_wrmsse')\n",
    "    \n",
    "    plt.title(title)\n",
    "    plt.xlabel('Epoch #')\n",
    "    plt.ylabel('WRMSSE')\n",
    "    plt.legend(loc='upper right')\n",
    "    plt.show()"
   ]
  },
  {
   "cell_type": "code",
   "execution_count": 19,
   "metadata": {},
   "outputs": [],
   "source": [
    "train_losses = []\n",
    "val_losses = []\n",
    "val_wrmsses = []\n",
    "for fold in histories:\n",
    "    train_losses.append(fold.history['loss'])\n",
    "    val_losses.append(fold.history['val_loss'])\n",
    "    val_wrmsses.append(fold.history['val_wrmsse'])"
   ]
  },
  {
   "cell_type": "code",
   "execution_count": 20,
   "metadata": {},
   "outputs": [
    {
     "data": {
      "image/png": "[encoded data removed]",
      "text/plain": [
       "<Figure size 432x288 with 1 Axes>"
      ]
     },
     "metadata": {},
     "output_type": "display_data"
    },
    {
     "data": {
      "image/png": "[encoded data removed]",
      "text/plain": [
       "<Figure size 432x288 with 1 Axes>"
      ]
     },
     "metadata": {},
     "output_type": "display_data"
    }
   ],
   "source": [
    "plot_loss(train_losses, val_losses, nr_epochs, 'Training & Validation Losses')\n",
    "plot_wrmsse(val_wrmsses, nr_epochs, 'Validation WRMSSE')"
   ]
  }
 ],
 "metadata": {
  "kernelspec": {
   "display_name": "Python 3",
   "language": "python",
   "name": "python3"
  },
  "language_info": {
   "codemirror_mode": {
    "name": "ipython",
    "version": 3
   },
   "file_extension": ".py",
   "mimetype": "text/x-python",
   "name": "python",
   "nbconvert_exporter": "python",
   "pygments_lexer": "ipython3",
   "version": "3.7.4"
  }
 },
 "nbformat": 4,
 "nbformat_minor": 2
}
