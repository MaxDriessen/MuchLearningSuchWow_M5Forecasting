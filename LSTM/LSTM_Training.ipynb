{
 "cells": [
  {
   "cell_type": "markdown",
   "metadata": {},
   "source": [
    "# MuchLearningSuchWow - LSTM - Training\n",
    "\n",
    "This notebook contains the code we used to define and train our LSTM network. The training code is based loosely on [this kernel](https://www.kaggle.com/bountyhunters/baseline-lstm-with-keras-0-7). The WRMSSE callback uses the same WRMSSE evaluator as the one used in `LSTM_Evaluation.ipynb`, which is based on [this discussion](https://www.kaggle.com/c/m5-forecasting-accuracy/discussion/133834). "
   ]
  },
  {
   "cell_type": "markdown",
   "metadata": {},
   "source": [
    "### Imports & Data Paths"
   ]
  },
  {
   "cell_type": "code",
   "execution_count": 1,
   "metadata": {},
   "outputs": [
    {
     "name": "stderr",
     "output_type": "stream",
     "text": [
      "Using TensorFlow backend.\n"
     ]
    }
   ],
   "source": [
    "import numpy as np\n",
    "import pandas as pd\n",
    "import pickle\n",
    "\n",
    "from WRMSSEEvaluator import WRMSSEEvaluator\n",
    "\n",
    "from keras.models import Sequential\n",
    "from keras.layers import Dense\n",
    "from keras.layers import LSTM\n",
    "from keras.layers import Dropout\n",
    "from keras.layers import Conv1D\n",
    "from keras.utils import plot_model\n",
    "from keras.callbacks import ModelCheckpoint, Callback\n",
    "from keras.optimizers import Adam\n",
    "\n",
    "import keras.backend as K\n",
    "import matplotlib.pyplot as plt"
   ]
  },
  {
   "cell_type": "code",
   "execution_count": 2,
   "metadata": {},
   "outputs": [],
   "source": [
    "inputPath = \"input/m5-forecasting-accuracy/\"\n",
    "outputPath = \"output/\"\n",
    "modelPath = \"models/\""
   ]
  },
  {
   "cell_type": "markdown",
   "metadata": {},
   "source": [
    "### Constants"
   ]
  },
  {
   "cell_type": "code",
   "execution_count": 3,
   "metadata": {},
   "outputs": [],
   "source": [
    "timesteps = 14 # Number of previous days that will be used to predict the next day\n",
    "startDay = 1000 # Number of days at start of data that will be ignored during training\n",
    "trainValDays = 28 # Number of days at the end of the training data that will be set aside for validation during training\n",
    "gap = 28 # Number of days before the training validation days that will not be used for training (to avoid bias)"
   ]
  },
  {
   "cell_type": "markdown",
   "metadata": {},
   "source": [
    "### Loading Data"
   ]
  },
  {
   "cell_type": "code",
   "execution_count": 4,
   "metadata": {},
   "outputs": [],
   "source": [
    "with open(outputPath + \"/preprocessed_train_valid_data.pkl\", \"rb\") as f:\n",
    "    df_train_valid = pickle.load(f)\n",
    "with open(outputPath + \"/scaler.pkl\", \"rb\") as f:\n",
    "    scaler = pickle.load(f)"
   ]
  },
  {
   "cell_type": "code",
   "execution_count": 5,
   "metadata": {},
   "outputs": [
    {
     "name": "stdout",
     "output_type": "stream",
     "text": [
      "(913, 30492)\n"
     ]
    }
   ],
   "source": [
    "df_train = df_train_valid[:-28] # Remove validation data (the Kaggle validation data, not the part we set aside ourselves)\n",
    "print(df_train.shape)"
   ]
  },
  {
   "cell_type": "code",
   "execution_count": 6,
   "metadata": {},
   "outputs": [],
   "source": [
    "df_train_scaled = scaler.transform(df_train) # Scale the training data"
   ]
  },
  {
   "cell_type": "markdown",
   "metadata": {},
   "source": [
    "### Create Training/Validation Data and Labels"
   ]
  },
  {
   "cell_type": "code",
   "execution_count": 7,
   "metadata": {},
   "outputs": [],
   "source": [
    "X_train = []\n",
    "y_train = []\n",
    "for i in range(timesteps, 1913 - startDay - trainValDays - gap):\n",
    "    X_train.append(df_train_scaled[i-timesteps:i])\n",
    "    y_train.append(df_train_scaled[i][0:30490]) # Only use first 30490 columns (sales) as labels\n",
    "\n",
    "X_valid = []\n",
    "y_valid = []\n",
    "for i in range(1913-startDay-trainValDays, 1913-startDay):\n",
    "    X_valid.append(df_train_scaled[i-timesteps:i])\n",
    "    y_valid.append(df_train_scaled[i][0:30490]) # Only use first 30490 columns (sales) as labels"
   ]
  },
  {
   "cell_type": "code",
   "execution_count": 8,
   "metadata": {},
   "outputs": [],
   "source": [
    "del df_train_scaled"
   ]
  },
  {
   "cell_type": "code",
   "execution_count": 9,
   "metadata": {},
   "outputs": [
    {
     "name": "stdout",
     "output_type": "stream",
     "text": [
      "(843, 14, 30492)\n",
      "(843, 30490)\n",
      "(28, 14, 30492)\n",
      "(28, 30490)\n"
     ]
    }
   ],
   "source": [
    "# Convert data to np array to be able to feed it to the model\n",
    "X_train = np.array(X_train)\n",
    "y_train = np.array(y_train)\n",
    "print(X_train.shape)\n",
    "print(y_train.shape)\n",
    "\n",
    "X_valid = np.array(X_valid)\n",
    "y_valid = np.array(y_valid)\n",
    "print(X_valid.shape)\n",
    "print(y_valid.shape)"
   ]
  },
  {
   "cell_type": "markdown",
   "metadata": {},
   "source": [
    "### LSTM Model"
   ]
  },
  {
   "cell_type": "code",
   "execution_count": 10,
   "metadata": {},
   "outputs": [],
   "source": [
    "model = Sequential()\n",
    "\n",
    "# 1D convolution layer\n",
    "model.add(Conv1D(filters=32, kernel_size=7, strides=1, padding=\"causal\",activation=\"relu\",input_shape=(X_train.shape[1], X_train.shape[2])))\n",
    "\n",
    "# LSTM layers\n",
    "layer_1_units=150\n",
    "model.add(LSTM(units = layer_1_units, return_sequences = True))\n",
    "model.add(Dropout(0.1))\n",
    "\n",
    "layer_2_units=300\n",
    "model.add(LSTM(units = layer_2_units, return_sequences = True))\n",
    "model.add(Dropout(0.1))\n",
    "\n",
    "layer_3_units=400\n",
    "model.add(LSTM(units = layer_3_units))\n",
    "model.add(Dropout(0.1))\n",
    "\n",
    "# Output layer\n",
    "model.add(Dense(units = 30490))"
   ]
  },
  {
   "cell_type": "code",
   "execution_count": 11,
   "metadata": {},
   "outputs": [
    {
     "name": "stdout",
     "output_type": "stream",
     "text": [
      "Model: \"sequential_1\"\n",
      "_________________________________________________________________\n",
      "Layer (type)                 Output Shape              Param #   \n",
      "=================================================================\n",
      "conv1d_1 (Conv1D)            (None, 14, 32)            6830240   \n",
      "_________________________________________________________________\n",
      "lstm_1 (LSTM)                (None, 14, 150)           109800    \n",
      "_________________________________________________________________\n",
      "dropout_1 (Dropout)          (None, 14, 150)           0         \n",
      "_________________________________________________________________\n",
      "lstm_2 (LSTM)                (None, 14, 300)           541200    \n",
      "_________________________________________________________________\n",
      "dropout_2 (Dropout)          (None, 14, 300)           0         \n",
      "_________________________________________________________________\n",
      "lstm_3 (LSTM)                (None, 400)               1121600   \n",
      "_________________________________________________________________\n",
      "dropout_3 (Dropout)          (None, 400)               0         \n",
      "_________________________________________________________________\n",
      "dense_1 (Dense)              (None, 30490)             12226490  \n",
      "=================================================================\n",
      "Total params: 20,829,330\n",
      "Trainable params: 20,829,330\n",
      "Non-trainable params: 0\n",
      "_________________________________________________________________\n",
      "None\n"
     ]
    }
   ],
   "source": [
    "plot_model(model, modelPath + \"/model.png\")\n",
    "print(model.summary())"
   ]
  },
  {
   "cell_type": "markdown",
   "metadata": {},
   "source": [
    "### WRMSSE Evaluation Callback"
   ]
  },
  {
   "cell_type": "code",
   "execution_count": 12,
   "metadata": {},
   "outputs": [],
   "source": [
    "class WRMSSECallback(Callback):\n",
    "    \n",
    "    def __init__( self, df_train_orginal, df_valid_original, df_calendar, df_prices,\n",
    "                  timesteps, input_data, scaler, nr_days_to_predict, additional_features ):\n",
    "        # Create evaluator and set all values necessary for testing & evaluation\n",
    "        self.evaluator = WRMSSEEvaluator(df_train_orginal, df_valid_original, df_calendar, df_prices)\n",
    "        self.timesteps = timesteps\n",
    "        self.input_data = input_data\n",
    "        self.scaler = scaler\n",
    "        self.nr_days_to_predict = nr_days_to_predict\n",
    "        self.additional_features = additional_features\n",
    "        \n",
    "    def test_model( self, model ):\n",
    "        # Note: this function is identical to the one in LSTM_Testing.ipynb\n",
    "        \n",
    "        # Scale and convert input data so that it can be fed into the model\n",
    "        inputs = self.scaler.transform(self.input_data)\n",
    "        X_test = np.array([inputs])\n",
    "    \n",
    "        # Predict sales for the next nr_days_to_predict days\n",
    "        predictions = []\n",
    "        for j in range(0, self.nr_days_to_predict):\n",
    "            predicted_sales = model.predict(X_test[:,-self.timesteps:,:]\n",
    "                                                 .reshape(1, self.timesteps, 30490 + additional_features.shape[1]))\n",
    "            test_input = np.column_stack((np.array(predicted_sales), self.additional_features.iloc[[j]]))\n",
    "            test_input_expanded = np.expand_dims(test_input, 0)\n",
    "            X_test = np.append(X_test, test_input_expanded, axis = 1)\n",
    "            predicted_sales = self.scaler.inverse_transform(test_input)[:,0:30490]\n",
    "            predictions.append(predicted_sales)\n",
    "    \n",
    "        return predictions\n",
    "    \n",
    "    def evaluate( self, predictions ):\n",
    "        # Reshape predictions in order to feed them to the evaluator\n",
    "        predictions = pd.DataFrame(data=np.array(predictions).reshape(28,30490))\n",
    "        predictions = predictions.T\n",
    "        predictions.columns = [f\"d_{i}\" for i in range (1886,1914)]\n",
    "        \n",
    "        # Compute and return WRMSSE\n",
    "        groups, scores = self.evaluator.score(predictions)\n",
    "        wrmsse_score = np.mean(scores)\n",
    "        \n",
    "        return wrmsse_score\n",
    "    \n",
    "    def on_epoch_end( self, epoch, logs=None ):\n",
    "        logs = logs or {}\n",
    "        # Predict using the current state of the model, compute WRMSSE, add the result to the log and print it\n",
    "        predictions = self.test_model(self.model)\n",
    "        wrmsse_score = self.evaluate(predictions)\n",
    "        logs['val_wrmsse'] = wrmsse_score\n",
    "        print(\"Validation WRMSSE after epoch \"+str(epoch+1)+\": \"+str(wrmsse_score))"
   ]
  },
  {
   "cell_type": "code",
   "execution_count": 13,
   "metadata": {},
   "outputs": [],
   "source": [
    "# WRMSSE evaluator requires original, non-preprocessed data\n",
    "df_sales = pd.read_csv(inputPath + \"/sales_train_evaluation.csv\")\n",
    "df_calendar = pd.read_csv(inputPath + \"/calendar.csv\")\n",
    "df_prices = pd.read_csv(inputPath + \"/sell_prices.csv\")"
   ]
  },
  {
   "cell_type": "code",
   "execution_count": 14,
   "metadata": {},
   "outputs": [],
   "source": [
    "# Extract original version of training and validation data (the part of the training set we set aside for validation)\n",
    "df_train_original = df_sales.iloc[:, :-28-trainValDays]\n",
    "df_valid_original = df_sales.iloc[:, -28-trainValDays:-28]"
   ]
  },
  {
   "cell_type": "code",
   "execution_count": 15,
   "metadata": {},
   "outputs": [],
   "source": [
    "# Extract the additional features from the validation part of the (preprocessed) training data\n",
    "additional_features = df_train[-28:].iloc[:, 30490:]"
   ]
  },
  {
   "cell_type": "code",
   "execution_count": 16,
   "metadata": {},
   "outputs": [
    {
     "data": {
      "application/vnd.jupyter.widget-view+json": {
       "model_id": "a63b2813ff424d3abd566a8862ac94f9",
       "version_major": 2,
       "version_minor": 0
      },
      "text/plain": [
       "HBox(children=(FloatProgress(value=0.0, max=12.0), HTML(value='')))"
      ]
     },
     "metadata": {},
     "output_type": "display_data"
    },
    {
     "name": "stdout",
     "output_type": "stream",
     "text": [
      "\n"
     ]
    }
   ],
   "source": [
    "# Create WRMSSE evaluation callback\n",
    "wrmsse_valid = WRMSSECallback( df_train_original, df_valid_original, df_calendar, df_prices,\n",
    "                               timesteps, df_train[:-timesteps], scaler, trainValDays, additional_features)"
   ]
  },
  {
   "cell_type": "markdown",
   "metadata": {},
   "source": [
    "### Training"
   ]
  },
  {
   "cell_type": "code",
   "execution_count": 17,
   "metadata": {},
   "outputs": [
    {
     "name": "stdout",
     "output_type": "stream",
     "text": [
      "Train on 843 samples, validate on 28 samples\n",
      "Epoch 1/25\n",
      "843/843 [==============================] - 30s 36ms/step - loss: 0.1470 - val_loss: 0.1581\n",
      "Validation WRMSSE after epoch 1: 1.1650993743155325\n",
      "Epoch 2/25\n",
      "843/843 [==============================] - 29s 35ms/step - loss: 0.1408 - val_loss: 0.1577\n",
      "Validation WRMSSE after epoch 2: 1.210641022902779\n",
      "Epoch 3/25\n",
      "843/843 [==============================] - 29s 34ms/step - loss: 0.1393 - val_loss: 0.1567\n",
      "Validation WRMSSE after epoch 3: 0.9591480268939708\n",
      "Epoch 4/25\n",
      "843/843 [==============================] - 28s 33ms/step - loss: 0.1374 - val_loss: 0.1568\n",
      "Validation WRMSSE after epoch 4: 1.0515235859235863\n",
      "Epoch 5/25\n",
      "843/843 [==============================] - 28s 34ms/step - loss: 0.1360 - val_loss: 0.1574\n",
      "Validation WRMSSE after epoch 5: 0.8760412688092458\n",
      "Epoch 6/25\n",
      "843/843 [==============================] - 28s 33ms/step - loss: 0.1353 - val_loss: 0.1562\n",
      "Validation WRMSSE after epoch 6: 0.841748166694544\n",
      "Epoch 7/25\n",
      "843/843 [==============================] - 29s 34ms/step - loss: 0.1347 - val_loss: 0.1573\n",
      "Validation WRMSSE after epoch 7: 0.9222831876933872\n",
      "Epoch 8/25\n",
      "843/843 [==============================] - 29s 35ms/step - loss: 0.1341 - val_loss: 0.1570\n",
      "Validation WRMSSE after epoch 8: 0.8836581856697553\n",
      "Epoch 9/25\n",
      "843/843 [==============================] - 28s 33ms/step - loss: 0.1336 - val_loss: 0.1585\n",
      "Validation WRMSSE after epoch 9: 0.7921714047125302\n",
      "Epoch 10/25\n",
      "843/843 [==============================] - 29s 35ms/step - loss: 0.1333 - val_loss: 0.1576\n",
      "Validation WRMSSE after epoch 10: 1.0631774900310984\n",
      "Epoch 11/25\n",
      "843/843 [==============================] - 29s 34ms/step - loss: 0.1329 - val_loss: 0.1550\n",
      "Validation WRMSSE after epoch 11: 0.8585123580045462\n",
      "Epoch 12/25\n",
      "843/843 [==============================] - 28s 34ms/step - loss: 0.1323 - val_loss: 0.1551\n",
      "Validation WRMSSE after epoch 12: 0.838811254937963\n",
      "Epoch 13/25\n",
      "843/843 [==============================] - 28s 34ms/step - loss: 0.1320 - val_loss: 0.1548\n",
      "Validation WRMSSE after epoch 13: 0.9405321819475633\n",
      "Epoch 14/25\n",
      "843/843 [==============================] - 28s 33ms/step - loss: 0.1318 - val_loss: 0.1579\n",
      "Validation WRMSSE after epoch 14: 1.07177698196906\n",
      "Epoch 15/25\n",
      "843/843 [==============================] - 28s 33ms/step - loss: 0.1316 - val_loss: 0.1561\n",
      "Validation WRMSSE after epoch 15: 0.9302254415676946\n",
      "Epoch 16/25\n",
      "843/843 [==============================] - 28s 33ms/step - loss: 0.1314 - val_loss: 0.1569\n",
      "Validation WRMSSE after epoch 16: 0.8735388812599468\n",
      "Epoch 17/25\n",
      "843/843 [==============================] - 28s 34ms/step - loss: 0.1310 - val_loss: 0.1565\n",
      "Validation WRMSSE after epoch 17: 0.9540098098774309\n",
      "Epoch 18/25\n",
      "843/843 [==============================] - 27s 33ms/step - loss: 0.1309 - val_loss: 0.1562\n",
      "Validation WRMSSE after epoch 18: 0.8041711867138073\n",
      "Epoch 19/25\n",
      "843/843 [==============================] - 27s 33ms/step - loss: 0.1305 - val_loss: 0.1558\n",
      "Validation WRMSSE after epoch 19: 0.862657602671263\n",
      "Epoch 20/25\n",
      "843/843 [==============================] - 27s 33ms/step - loss: 0.1304 - val_loss: 0.1552\n",
      "Validation WRMSSE after epoch 20: 0.7664734716736264\n",
      "Epoch 21/25\n",
      "843/843 [==============================] - 28s 33ms/step - loss: 0.1300 - val_loss: 0.1551\n",
      "Validation WRMSSE after epoch 21: 0.8417549153995506\n",
      "Epoch 22/25\n",
      "843/843 [==============================] - 28s 33ms/step - loss: 0.1298 - val_loss: 0.1560\n",
      "Validation WRMSSE after epoch 22: 0.8839449024486177\n",
      "Epoch 23/25\n",
      "843/843 [==============================] - 28s 33ms/step - loss: 0.1295 - val_loss: 0.1564\n",
      "Validation WRMSSE after epoch 23: 0.8296776568782261\n",
      "Epoch 24/25\n",
      "843/843 [==============================] - 28s 33ms/step - loss: 0.1293 - val_loss: 0.1573\n",
      "Validation WRMSSE after epoch 24: 1.028373374803938\n",
      "Epoch 25/25\n",
      "843/843 [==============================] - 28s 33ms/step - loss: 0.1291 - val_loss: 0.1560\n",
      "Validation WRMSSE after epoch 25: 0.8103959501866914\n"
     ]
    }
   ],
   "source": [
    "# Define the loss function (RMSE)\n",
    "def root_mean_squared_error(y_true, y_pred):\n",
    "        return K.sqrt(K.mean(K.square(y_pred - y_true))) \n",
    "\n",
    "# Compile the model\n",
    "model.compile(optimizer = Adam(learning_rate=0.001), loss = root_mean_squared_error)\n",
    "\n",
    "# Create callbacks that save the models with the lowest validation loss and WRMSSE score\n",
    "mcp_save_loss = ModelCheckpoint(modelPath + \"/lstm_model_best_loss\", save_best_only=True, monitor='val_loss', mode='min')\n",
    "mcp_save_wrmsse = ModelCheckpoint(modelPath + \"/lstm_model_best_wrmsse\", save_best_only=True, monitor='val_wrmsse', mode='min')\n",
    "\n",
    "# Fit the model to the training set\n",
    "nr_epochs = 25\n",
    "batch_size = 16\n",
    "history = model.fit(X_train, y_train, \n",
    "                    epochs = nr_epochs, \n",
    "                    validation_data = (X_valid, y_valid), \n",
    "                    batch_size = batch_size, \n",
    "                    verbose = 1, \n",
    "                    callbacks = [wrmsse_valid, mcp_save_loss, mcp_save_wrmsse])"
   ]
  },
  {
   "cell_type": "markdown",
   "metadata": {},
   "source": [
    "### Saving Result"
   ]
  },
  {
   "cell_type": "code",
   "execution_count": 18,
   "metadata": {},
   "outputs": [],
   "source": [
    "model.save(modelPath + \"/lstm_model_final\")"
   ]
  },
  {
   "cell_type": "markdown",
   "metadata": {},
   "source": [
    "### Plotting Losses"
   ]
  },
  {
   "cell_type": "code",
   "execution_count": 19,
   "metadata": {},
   "outputs": [],
   "source": [
    "def plot_loss(history, nr_epochs, title):\n",
    "    plt.style.use('ggplot')\n",
    "    plt.figure()\n",
    "    plt.plot(np.arange(0, nr_epochs), history.history['loss'], label='train_loss')\n",
    "    plt.plot(np.arange(0, nr_epochs), history.history['val_loss'], label='val_loss')\n",
    "    \n",
    "    plt.title(title)\n",
    "    plt.xlabel('Epoch #')\n",
    "    plt.ylabel('Loss')\n",
    "    plt.legend(loc='upper right')\n",
    "    plt.show()\n",
    "    \n",
    "def plot_wrmsse(history, nr_epochs, title):\n",
    "    plt.style.use('ggplot')\n",
    "    plt.figure()\n",
    "    plt.plot(np.arange(0, nr_epochs), history.history['val_wrmsse'], label='val_wrmsse')\n",
    "    \n",
    "    plt.title(title)\n",
    "    plt.xlabel('Epoch #')\n",
    "    plt.ylabel('WRMSSE')\n",
    "    plt.legend(loc='upper right')\n",
    "    plt.show()"
   ]
  },
  {
   "cell_type": "code",
   "execution_count": 20,
   "metadata": {},
   "outputs": [
    {
     "data": {
      "image/png": "[encoded data removed]",
      "text/plain": [
       "<Figure size 432x288 with 1 Axes>"
      ]
     },
     "metadata": {},
     "output_type": "display_data"
    },
    {
     "data": {
      "image/png": "[encoded data removed]",
      "text/plain": [
       "<Figure size 432x288 with 1 Axes>"
      ]
     },
     "metadata": {},
     "output_type": "display_data"
    }
   ],
   "source": [
    "plot_loss(history, nr_epochs, 'Training & Validation Losses')\n",
    "plot_wrmsse(history, nr_epochs, 'Validation WRMSSE')"
   ]
  }
 ],
 "metadata": {
  "kernelspec": {
   "display_name": "Python 3",
   "language": "python",
   "name": "python3"
  },
  "language_info": {
   "codemirror_mode": {
    "name": "ipython",
    "version": 3
   },
   "file_extension": ".py",
   "mimetype": "text/x-python",
   "name": "python",
   "nbconvert_exporter": "python",
   "pygments_lexer": "ipython3",
   "version": "3.7.4"
  }
 },
 "nbformat": 4,
 "nbformat_minor": 2
}
