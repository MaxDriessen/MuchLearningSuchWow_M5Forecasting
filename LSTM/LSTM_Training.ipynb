{
 "cells": [
  {
   "cell_type": "markdown",
   "metadata": {},
   "source": [
    "# MuchLearningSuchWow - LSTM - Training\n",
    "\n",
    "This notebook contains the code we used to define and train our LSTM network. The training code is based primarily on [this kernel](https://www.kaggle.com/bountyhunters/baseline-lstm-with-keras-0-7)."
   ]
  },
  {
   "cell_type": "markdown",
   "metadata": {},
   "source": [
    "### Imports & Data Paths"
   ]
  },
  {
   "cell_type": "code",
   "execution_count": 1,
   "metadata": {},
   "outputs": [
    {
     "name": "stderr",
     "output_type": "stream",
     "text": [
      "Using TensorFlow backend.\n"
     ]
    }
   ],
   "source": [
    "import numpy as np\n",
    "import pandas as pd\n",
    "import pickle\n",
    "\n",
    "from keras.models import Sequential\n",
    "from keras.layers import Dense\n",
    "from keras.layers import LSTM\n",
    "from keras.layers import Dropout\n",
    "from keras.layers import Conv1D\n",
    "from keras.utils import plot_model\n",
    "from keras.callbacks import ModelCheckpoint, Callback\n",
    "from keras.optimizers import Adam\n",
    "\n",
    "import keras.backend as K\n",
    "import matplotlib.pyplot as plt"
   ]
  },
  {
   "cell_type": "code",
   "execution_count": 2,
   "metadata": {},
   "outputs": [],
   "source": [
    "outputPath = \"output/\"\n",
    "modelPath = \"models/\""
   ]
  },
  {
   "cell_type": "markdown",
   "metadata": {},
   "source": [
    "### Constants"
   ]
  },
  {
   "cell_type": "code",
   "execution_count": 3,
   "metadata": {},
   "outputs": [],
   "source": [
    "timesteps = 14 # Number of previous days that will be used to predict the next day\n",
    "startDay = 1000 # Number of days at start of data that will be ignored during training\n",
    "trainValDays = 28 # Number of days at the end of the training data that will be set aside for validation during training"
   ]
  },
  {
   "cell_type": "markdown",
   "metadata": {},
   "source": [
    "### Loading Data"
   ]
  },
  {
   "cell_type": "code",
   "execution_count": 4,
   "metadata": {},
   "outputs": [],
   "source": [
    "with open(outputPath + \"/preprocessed_train_valid_data.pkl\", \"rb\") as f:\n",
    "    df_train_valid = pickle.load(f)\n",
    "with open(outputPath + \"/scaler.pkl\", \"rb\") as f:\n",
    "    scaler = pickle.load(f)"
   ]
  },
  {
   "cell_type": "code",
   "execution_count": 5,
   "metadata": {},
   "outputs": [
    {
     "name": "stdout",
     "output_type": "stream",
     "text": [
      "(913, 30492)\n"
     ]
    }
   ],
   "source": [
    "df_train = df_train_valid[:-28] # Remove validation data (the Kaggle validation data, not the part we set aside ourselves)\n",
    "print(df_train.shape)"
   ]
  },
  {
   "cell_type": "code",
   "execution_count": 6,
   "metadata": {},
   "outputs": [],
   "source": [
    "df_train_scaled = scaler.transform(df_train) # Scale the training data"
   ]
  },
  {
   "cell_type": "markdown",
   "metadata": {},
   "source": [
    "### Create Training/Validation Data and Labels"
   ]
  },
  {
   "cell_type": "code",
   "execution_count": 7,
   "metadata": {},
   "outputs": [],
   "source": [
    "X_train = []\n",
    "y_train = []\n",
    "for i in range(timesteps, 1913 - startDay - trainValDays):\n",
    "    X_train.append(df_train_scaled[i-timesteps:i])\n",
    "    y_train.append(df_train_scaled[i][0:30490]) # Only use first 30490 columns (sales) as labels\n",
    "\n",
    "X_valid = []\n",
    "y_valid = []\n",
    "for i in range(1913-startDay-trainValDays, 1913-startDay):\n",
    "    X_valid.append(df_train_scaled[i-timesteps:i])\n",
    "    y_valid.append(df_train_scaled[i][0:30490]) # Only use first 30490 columns (sales) as labels"
   ]
  },
  {
   "cell_type": "code",
   "execution_count": 8,
   "metadata": {},
   "outputs": [],
   "source": [
    "del df_train_scaled"
   ]
  },
  {
   "cell_type": "code",
   "execution_count": 9,
   "metadata": {},
   "outputs": [
    {
     "name": "stdout",
     "output_type": "stream",
     "text": [
      "(871, 14, 30492)\n",
      "(871, 30490)\n",
      "(28, 14, 30492)\n",
      "(28, 30490)\n"
     ]
    }
   ],
   "source": [
    "# Convert data to np array to be able to feed it to the model\n",
    "X_train = np.array(X_train)\n",
    "y_train = np.array(y_train)\n",
    "print(X_train.shape)\n",
    "print(y_train.shape)\n",
    "\n",
    "X_valid = np.array(X_valid)\n",
    "y_valid = np.array(y_valid)\n",
    "print(X_valid.shape)\n",
    "print(y_valid.shape)"
   ]
  },
  {
   "cell_type": "markdown",
   "metadata": {},
   "source": [
    "### LSTM Model"
   ]
  },
  {
   "cell_type": "code",
   "execution_count": 10,
   "metadata": {},
   "outputs": [],
   "source": [
    "model = Sequential()\n",
    "\n",
    "# 1D convolution layer\n",
    "model.add(Conv1D(filters=32, kernel_size=7, strides=1, padding=\"causal\",activation=\"relu\",input_shape=(X_train.shape[1], X_train.shape[2])))\n",
    "\n",
    "# LSTM layers\n",
    "layer_1_units=150\n",
    "model.add(LSTM(units = layer_1_units, return_sequences = True))\n",
    "model.add(Dropout(0.1))\n",
    "\n",
    "layer_2_units=300\n",
    "model.add(LSTM(units = layer_2_units, return_sequences = True))\n",
    "model.add(Dropout(0.1))\n",
    "\n",
    "layer_3_units=400\n",
    "model.add(LSTM(units = layer_3_units))\n",
    "model.add(Dropout(0.1))\n",
    "\n",
    "# Output layer\n",
    "model.add(Dense(units = 30490))"
   ]
  },
  {
   "cell_type": "code",
   "execution_count": 11,
   "metadata": {},
   "outputs": [
    {
     "name": "stdout",
     "output_type": "stream",
     "text": [
      "Model: \"sequential_1\"\n",
      "_________________________________________________________________\n",
      "Layer (type)                 Output Shape              Param #   \n",
      "=================================================================\n",
      "conv1d_1 (Conv1D)            (None, 14, 32)            6830240   \n",
      "_________________________________________________________________\n",
      "lstm_1 (LSTM)                (None, 14, 150)           109800    \n",
      "_________________________________________________________________\n",
      "dropout_1 (Dropout)          (None, 14, 150)           0         \n",
      "_________________________________________________________________\n",
      "lstm_2 (LSTM)                (None, 14, 300)           541200    \n",
      "_________________________________________________________________\n",
      "dropout_2 (Dropout)          (None, 14, 300)           0         \n",
      "_________________________________________________________________\n",
      "lstm_3 (LSTM)                (None, 400)               1121600   \n",
      "_________________________________________________________________\n",
      "dropout_3 (Dropout)          (None, 400)               0         \n",
      "_________________________________________________________________\n",
      "dense_1 (Dense)              (None, 30490)             12226490  \n",
      "=================================================================\n",
      "Total params: 20,829,330\n",
      "Trainable params: 20,829,330\n",
      "Non-trainable params: 0\n",
      "_________________________________________________________________\n",
      "None\n"
     ]
    }
   ],
   "source": [
    "plot_model(model, modelPath + \"/model.png\")\n",
    "print(model.summary())"
   ]
  },
  {
   "cell_type": "markdown",
   "metadata": {},
   "source": [
    "### Training"
   ]
  },
  {
   "cell_type": "code",
   "execution_count": 12,
   "metadata": {},
   "outputs": [
    {
     "name": "stdout",
     "output_type": "stream",
     "text": [
      "Train on 871 samples, validate on 28 samples\n",
      "Epoch 1/50\n",
      "871/871 [==============================] - 33s 38ms/step - loss: 0.1471 - val_loss: 0.1584\n",
      "Epoch 2/50\n",
      "871/871 [==============================] - 30s 35ms/step - loss: 0.1417 - val_loss: 0.1574\n",
      "Epoch 3/50\n",
      "871/871 [==============================] - 29s 34ms/step - loss: 0.1399 - val_loss: 0.1557\n",
      "Epoch 4/50\n",
      "871/871 [==============================] - 30s 34ms/step - loss: 0.1381 - val_loss: 0.1569\n",
      "Epoch 5/50\n",
      "871/871 [==============================] - 29s 34ms/step - loss: 0.1367 - val_loss: 0.1543\n",
      "Epoch 6/50\n",
      "871/871 [==============================] - 29s 34ms/step - loss: 0.1357 - val_loss: 0.1544\n",
      "Epoch 7/50\n",
      "871/871 [==============================] - 29s 34ms/step - loss: 0.1351 - val_loss: 0.1548\n",
      "Epoch 8/50\n",
      "871/871 [==============================] - 29s 33ms/step - loss: 0.1344 - val_loss: 0.1546\n",
      "Epoch 9/50\n",
      "871/871 [==============================] - 29s 34ms/step - loss: 0.1338 - val_loss: 0.1524\n",
      "Epoch 10/50\n",
      "871/871 [==============================] - 33s 37ms/step - loss: 0.1334 - val_loss: 0.1525\n",
      "Epoch 11/50\n",
      "871/871 [==============================] - 33s 38ms/step - loss: 0.1333 - val_loss: 0.1570\n",
      "Epoch 12/50\n",
      "871/871 [==============================] - 33s 38ms/step - loss: 0.1330 - val_loss: 0.1517\n",
      "Epoch 13/50\n",
      "871/871 [==============================] - 34s 39ms/step - loss: 0.1323 - val_loss: 0.1514\n",
      "Epoch 14/50\n",
      "871/871 [==============================] - 34s 39ms/step - loss: 0.1320 - val_loss: 0.1527\n",
      "Epoch 15/50\n",
      "871/871 [==============================] - 33s 38ms/step - loss: 0.1320 - val_loss: 0.1521\n",
      "Epoch 16/50\n",
      "871/871 [==============================] - 33s 38ms/step - loss: 0.1318 - val_loss: 0.1519\n",
      "Epoch 17/50\n",
      "871/871 [==============================] - 33s 38ms/step - loss: 0.1313 - val_loss: 0.1519\n",
      "Epoch 18/50\n",
      "871/871 [==============================] - 33s 37ms/step - loss: 0.1313 - val_loss: 0.1559\n",
      "Epoch 19/50\n",
      "871/871 [==============================] - 32s 37ms/step - loss: 0.1311 - val_loss: 0.1531\n",
      "Epoch 20/50\n",
      "871/871 [==============================] - 32s 37ms/step - loss: 0.1306 - val_loss: 0.1517\n",
      "Epoch 21/50\n",
      "871/871 [==============================] - 32s 37ms/step - loss: 0.1305 - val_loss: 0.1520\n",
      "Epoch 22/50\n",
      "871/871 [==============================] - 32s 37ms/step - loss: 0.1300 - val_loss: 0.1530\n",
      "Epoch 23/50\n",
      "871/871 [==============================] - 32s 37ms/step - loss: 0.1295 - val_loss: 0.1525\n",
      "Epoch 24/50\n",
      "871/871 [==============================] - 32s 37ms/step - loss: 0.1295 - val_loss: 0.1531\n",
      "Epoch 25/50\n",
      "871/871 [==============================] - 32s 37ms/step - loss: 0.1296 - val_loss: 0.1526\n",
      "Epoch 26/50\n",
      "871/871 [==============================] - 32s 37ms/step - loss: 0.1292 - val_loss: 0.1529\n",
      "Epoch 27/50\n",
      "871/871 [==============================] - 32s 37ms/step - loss: 0.1291 - val_loss: 0.1542\n",
      "Epoch 28/50\n",
      "871/871 [==============================] - 33s 38ms/step - loss: 0.1285 - val_loss: 0.1545\n",
      "Epoch 29/50\n",
      "871/871 [==============================] - 32s 37ms/step - loss: 0.1284 - val_loss: 0.1526\n",
      "Epoch 30/50\n",
      "871/871 [==============================] - 32s 37ms/step - loss: 0.1284 - val_loss: 0.1534\n",
      "Epoch 31/50\n",
      "871/871 [==============================] - 32s 37ms/step - loss: 0.1278 - val_loss: 0.1545\n",
      "Epoch 32/50\n",
      "871/871 [==============================] - 32s 37ms/step - loss: 0.1273 - val_loss: 0.1533\n",
      "Epoch 33/50\n",
      "871/871 [==============================] - 31s 36ms/step - loss: 0.1269 - val_loss: 0.1539\n",
      "Epoch 34/50\n",
      "871/871 [==============================] - 31s 36ms/step - loss: 0.1267 - val_loss: 0.1537\n",
      "Epoch 35/50\n",
      "871/871 [==============================] - 32s 37ms/step - loss: 0.1263 - val_loss: 0.1542\n",
      "Epoch 36/50\n",
      "871/871 [==============================] - 30s 35ms/step - loss: 0.1258 - val_loss: 0.1542\n",
      "Epoch 37/50\n",
      "871/871 [==============================] - 31s 35ms/step - loss: 0.1255 - val_loss: 0.1551\n",
      "Epoch 38/50\n",
      "871/871 [==============================] - 30s 35ms/step - loss: 0.1254 - val_loss: 0.1538\n",
      "Epoch 39/50\n",
      "871/871 [==============================] - 31s 35ms/step - loss: 0.1252 - val_loss: 0.1537\n",
      "Epoch 40/50\n",
      "871/871 [==============================] - 31s 35ms/step - loss: 0.1255 - val_loss: 0.1547\n",
      "Epoch 41/50\n",
      "871/871 [==============================] - 30s 35ms/step - loss: 0.1247 - val_loss: 0.1552\n",
      "Epoch 42/50\n",
      "871/871 [==============================] - 31s 35ms/step - loss: 0.1239 - val_loss: 0.1548\n",
      "Epoch 43/50\n",
      "871/871 [==============================] - 31s 35ms/step - loss: 0.1237 - val_loss: 0.1566\n",
      "Epoch 44/50\n",
      "871/871 [==============================] - 30s 35ms/step - loss: 0.1238 - val_loss: 0.1550\n",
      "Epoch 45/50\n",
      "871/871 [==============================] - 30s 34ms/step - loss: 0.1235 - val_loss: 0.1575\n",
      "Epoch 46/50\n",
      "871/871 [==============================] - 30s 34ms/step - loss: 0.1224 - val_loss: 0.1541\n",
      "Epoch 47/50\n",
      "871/871 [==============================] - 30s 35ms/step - loss: 0.1225 - val_loss: 0.1555\n",
      "Epoch 48/50\n",
      "871/871 [==============================] - 30s 35ms/step - loss: 0.1224 - val_loss: 0.1550\n",
      "Epoch 49/50\n",
      "871/871 [==============================] - 30s 34ms/step - loss: 0.1217 - val_loss: 0.1544\n",
      "Epoch 50/50\n",
      "871/871 [==============================] - 32s 37ms/step - loss: 0.1213 - val_loss: 0.1550\n"
     ]
    }
   ],
   "source": [
    "def root_mean_squared_error(y_true, y_pred):\n",
    "        return K.sqrt(K.mean(K.square(y_pred - y_true))) \n",
    "\n",
    "# Compiling the model\n",
    "model.compile(optimizer = Adam(learning_rate=0.001), loss = root_mean_squared_error)\n",
    "\n",
    "# Fitting the model to the training set\n",
    "nr_epochs = 50\n",
    "batch_size = 16\n",
    "\n",
    "# Saving model with lowest validation loss\n",
    "mcp_save = ModelCheckpoint(modelPath + \"/lstm_model_best\", save_best_only=True, monitor='val_loss', mode='min')\n",
    "\n",
    "history = model.fit(X_train, y_train, \n",
    "                    epochs = nr_epochs, \n",
    "                    validation_data = (X_valid, y_valid), \n",
    "                    batch_size = batch_size, \n",
    "                    verbose=1, \n",
    "                    callbacks = [mcp_save])"
   ]
  },
  {
   "cell_type": "markdown",
   "metadata": {},
   "source": [
    "### Saving Result"
   ]
  },
  {
   "cell_type": "code",
   "execution_count": 13,
   "metadata": {},
   "outputs": [],
   "source": [
    "model.save(modelPath + \"/lstm_model_final\")"
   ]
  },
  {
   "cell_type": "markdown",
   "metadata": {},
   "source": [
    "### Plotting Losses"
   ]
  },
  {
   "cell_type": "code",
   "execution_count": 14,
   "metadata": {},
   "outputs": [],
   "source": [
    "def plot_loss(history, nr_epochs, title):\n",
    "    plt.style.use('ggplot')\n",
    "    plt.figure()\n",
    "    plt.plot(np.arange(0, nr_epochs), history.history['loss'], label='train_loss')\n",
    "    plt.plot(np.arange(0, nr_epochs), history.history['val_loss'], label='val_loss')\n",
    "    \n",
    "    plt.title(title)\n",
    "    plt.xlabel('Epoch #')\n",
    "    plt.ylabel('Loss')\n",
    "    plt.legend(loc='upper right')\n",
    "    plt.show()"
   ]
  },
  {
   "cell_type": "code",
   "execution_count": 15,
   "metadata": {},
   "outputs": [
    {
     "data": {
      "image/png": "[encoded data removed]",
      "text/plain": [
       "<Figure size 432x288 with 1 Axes>"
      ]
     },
     "metadata": {},
     "output_type": "display_data"
    }
   ],
   "source": [
    "plot_loss(history, nr_epochs, 'Training & Validation Losses')"
   ]
  }
 ],
 "metadata": {
  "kernelspec": {
   "display_name": "Python 3",
   "language": "python",
   "name": "python3"
  },
  "language_info": {
   "codemirror_mode": {
    "name": "ipython",
    "version": 3
   },
   "file_extension": ".py",
   "mimetype": "text/x-python",
   "name": "python",
   "nbconvert_exporter": "python",
   "pygments_lexer": "ipython3",
   "version": "3.7.4"
  }
 },
 "nbformat": 4,
 "nbformat_minor": 2
}
