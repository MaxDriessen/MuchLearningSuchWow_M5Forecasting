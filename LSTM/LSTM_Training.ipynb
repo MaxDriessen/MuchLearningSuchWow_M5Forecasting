{
 "cells": [
  {
   "cell_type": "markdown",
   "metadata": {},
   "source": [
    "# MuchLearningSuchWow - LSTM - Training\n",
    "\n",
    "This notebook contains the code we used to define and train our LSTM network. The training code is based loosely on [this kernel](https://www.kaggle.com/bountyhunters/baseline-lstm-with-keras-0-7)."
   ]
  },
  {
   "cell_type": "markdown",
   "metadata": {},
   "source": [
    "### Imports & Data Paths"
   ]
  },
  {
   "cell_type": "code",
   "execution_count": 1,
   "metadata": {},
   "outputs": [
    {
     "name": "stderr",
     "output_type": "stream",
     "text": [
      "Using TensorFlow backend.\n"
     ]
    }
   ],
   "source": [
    "import numpy as np\n",
    "import pandas as pd\n",
    "import pickle\n",
    "\n",
    "from keras.models import Sequential\n",
    "from keras.layers import Dense, LSTM, Dropout, Conv1D\n",
    "from keras.utils import plot_model\n",
    "from keras.optimizers import Adam\n",
    "\n",
    "import keras.backend as K\n",
    "import matplotlib.pyplot as plt"
   ]
  },
  {
   "cell_type": "code",
   "execution_count": 2,
   "metadata": {},
   "outputs": [],
   "source": [
    "inputPath = \"input/m5-forecasting-accuracy/\"\n",
    "outputPath = \"output/\"\n",
    "modelPath = \"models/\""
   ]
  },
  {
   "cell_type": "markdown",
   "metadata": {},
   "source": [
    "### Constants"
   ]
  },
  {
   "cell_type": "code",
   "execution_count": 3,
   "metadata": {},
   "outputs": [],
   "source": [
    "timesteps = 14 # Number of previous days that will be used to predict the next day\n",
    "startDay = 1000 # Number of days at start of data that will be ignored during training"
   ]
  },
  {
   "cell_type": "markdown",
   "metadata": {},
   "source": [
    "### Loading Data"
   ]
  },
  {
   "cell_type": "code",
   "execution_count": 4,
   "metadata": {},
   "outputs": [],
   "source": [
    "with open(outputPath + \"/preprocessed_train_valid_data.pkl\", \"rb\") as f:\n",
    "    df_train_valid = pickle.load(f)\n",
    "with open(outputPath + \"/scaler.pkl\", \"rb\") as f:\n",
    "    scaler = pickle.load(f)"
   ]
  },
  {
   "cell_type": "code",
   "execution_count": 5,
   "metadata": {},
   "outputs": [
    {
     "name": "stdout",
     "output_type": "stream",
     "text": [
      "(913, 30504)\n"
     ]
    }
   ],
   "source": [
    "df_train = df_train_valid[:-28] # Remove validation data (the Kaggle validation data, not the part we set aside ourselves)\n",
    "print(df_train.shape)"
   ]
  },
  {
   "cell_type": "code",
   "execution_count": 6,
   "metadata": {},
   "outputs": [],
   "source": [
    "df_train_scaled = scaler.transform(df_train) # Scale the training data"
   ]
  },
  {
   "cell_type": "markdown",
   "metadata": {},
   "source": [
    "### Create Training/Validation Data and Labels"
   ]
  },
  {
   "cell_type": "code",
   "execution_count": 7,
   "metadata": {},
   "outputs": [],
   "source": [
    "X_train = []\n",
    "y_train = []\n",
    "for i in range(timesteps, 1913 - startDay):\n",
    "    X_train.append(df_train_scaled[i-timesteps:i])\n",
    "    y_train.append(df_train_scaled[i][0:30490]) # Only use first 30490 columns (sales) as labels"
   ]
  },
  {
   "cell_type": "code",
   "execution_count": 8,
   "metadata": {},
   "outputs": [],
   "source": [
    "del df_train_scaled"
   ]
  },
  {
   "cell_type": "code",
   "execution_count": 9,
   "metadata": {},
   "outputs": [
    {
     "name": "stdout",
     "output_type": "stream",
     "text": [
      "(899, 14, 30504)\n",
      "(899, 30490)\n"
     ]
    }
   ],
   "source": [
    "# Convert data to np array to be able to feed it to the model\n",
    "X_train = np.array(X_train)\n",
    "y_train = np.array(y_train)\n",
    "print(X_train.shape)\n",
    "print(y_train.shape)"
   ]
  },
  {
   "cell_type": "markdown",
   "metadata": {},
   "source": [
    "### LSTM Model"
   ]
  },
  {
   "cell_type": "code",
   "execution_count": 10,
   "metadata": {},
   "outputs": [],
   "source": [
    "model = Sequential()\n",
    "\n",
    "# 1D convolution layer\n",
    "model.add(Conv1D(filters=32, kernel_size=7, strides=1, padding=\"causal\", \n",
    "                 activation=\"relu\", input_shape=(X_train.shape[1], X_train.shape[2])))\n",
    "\n",
    "# LSTM layers\n",
    "layer_1_units=150\n",
    "model.add(LSTM(units = layer_1_units, return_sequences = True))\n",
    "model.add(Dropout(0.3))\n",
    "\n",
    "layer_2_units=150\n",
    "model.add(LSTM(units = layer_2_units, return_sequences = True))\n",
    "model.add(Dropout(0.3))\n",
    "\n",
    "layer_3_units=400\n",
    "model.add(LSTM(units = layer_3_units))\n",
    "model.add(Dropout(0.3))\n",
    "\n",
    "# Output layer\n",
    "model.add(Dense(units = 30490))"
   ]
  },
  {
   "cell_type": "code",
   "execution_count": 11,
   "metadata": {},
   "outputs": [
    {
     "name": "stdout",
     "output_type": "stream",
     "text": [
      "Model: \"sequential_1\"\n",
      "_________________________________________________________________\n",
      "Layer (type)                 Output Shape              Param #   \n",
      "=================================================================\n",
      "conv1d_1 (Conv1D)            (None, 14, 32)            6832928   \n",
      "_________________________________________________________________\n",
      "lstm_1 (LSTM)                (None, 14, 150)           109800    \n",
      "_________________________________________________________________\n",
      "dropout_1 (Dropout)          (None, 14, 150)           0         \n",
      "_________________________________________________________________\n",
      "lstm_2 (LSTM)                (None, 14, 150)           180600    \n",
      "_________________________________________________________________\n",
      "dropout_2 (Dropout)          (None, 14, 150)           0         \n",
      "_________________________________________________________________\n",
      "lstm_3 (LSTM)                (None, 400)               881600    \n",
      "_________________________________________________________________\n",
      "dropout_3 (Dropout)          (None, 400)               0         \n",
      "_________________________________________________________________\n",
      "dense_1 (Dense)              (None, 30490)             12226490  \n",
      "=================================================================\n",
      "Total params: 20,231,418\n",
      "Trainable params: 20,231,418\n",
      "Non-trainable params: 0\n",
      "_________________________________________________________________\n",
      "None\n"
     ]
    }
   ],
   "source": [
    "plot_model(model, modelPath + \"/model.png\")\n",
    "print(model.summary())"
   ]
  },
  {
   "cell_type": "markdown",
   "metadata": {},
   "source": [
    "### Training"
   ]
  },
  {
   "cell_type": "code",
   "execution_count": 12,
   "metadata": {},
   "outputs": [
    {
     "name": "stdout",
     "output_type": "stream",
     "text": [
      "Epoch 1/25\n",
      "899/899 [==============================] - 24s 26ms/step - loss: 0.1512\n",
      "Epoch 2/25\n",
      "899/899 [==============================] - 23s 26ms/step - loss: 0.1430\n",
      "Epoch 3/25\n",
      "899/899 [==============================] - 26s 29ms/step - loss: 0.1416\n",
      "Epoch 4/25\n",
      "899/899 [==============================] - 27s 30ms/step - loss: 0.1408\n",
      "Epoch 5/25\n",
      "899/899 [==============================] - 26s 29ms/step - loss: 0.1396\n",
      "Epoch 6/25\n",
      "899/899 [==============================] - 25s 28ms/step - loss: 0.1383\n",
      "Epoch 7/25\n",
      "899/899 [==============================] - 24s 27ms/step - loss: 0.1376\n",
      "Epoch 8/25\n",
      "899/899 [==============================] - 24s 27ms/step - loss: 0.1370\n",
      "Epoch 9/25\n",
      "899/899 [==============================] - 24s 27ms/step - loss: 0.1364\n",
      "Epoch 10/25\n",
      "899/899 [==============================] - 25s 28ms/step - loss: 0.1359\n",
      "Epoch 11/25\n",
      "899/899 [==============================] - 25s 27ms/step - loss: 0.1357\n",
      "Epoch 12/25\n",
      "899/899 [==============================] - 25s 27ms/step - loss: 0.1352\n",
      "Epoch 13/25\n",
      "899/899 [==============================] - 23s 26ms/step - loss: 0.1348\n",
      "Epoch 14/25\n",
      "899/899 [==============================] - 22s 25ms/step - loss: 0.1345\n",
      "Epoch 15/25\n",
      "899/899 [==============================] - 23s 25ms/step - loss: 0.1343\n",
      "Epoch 16/25\n",
      "899/899 [==============================] - 24s 27ms/step - loss: 0.1340\n",
      "Epoch 17/25\n",
      "899/899 [==============================] - 24s 27ms/step - loss: 0.1338\n",
      "Epoch 18/25\n",
      "899/899 [==============================] - 24s 27ms/step - loss: 0.1336\n",
      "Epoch 19/25\n",
      "899/899 [==============================] - 25s 27ms/step - loss: 0.1336\n",
      "Epoch 20/25\n",
      "899/899 [==============================] - 24s 27ms/step - loss: 0.1333\n",
      "Epoch 21/25\n",
      "899/899 [==============================] - 24s 27ms/step - loss: 0.1333\n",
      "Epoch 22/25\n",
      "899/899 [==============================] - 24s 27ms/step - loss: 0.1329\n",
      "Epoch 23/25\n",
      "899/899 [==============================] - 24s 27ms/step - loss: 0.1327\n",
      "Epoch 24/25\n",
      "899/899 [==============================] - 24s 26ms/step - loss: 0.1326\n",
      "Epoch 25/25\n",
      "899/899 [==============================] - 24s 27ms/step - loss: 0.1325\n"
     ]
    }
   ],
   "source": [
    "# Define the loss function (RMSE)\n",
    "def root_mean_squared_error(y_true, y_pred):\n",
    "    return K.sqrt(K.mean(K.square(y_pred - y_true))) \n",
    "\n",
    "# Compile the model\n",
    "model.compile(optimizer = Adam(learning_rate=0.001), loss = root_mean_squared_error)\n",
    "\n",
    "# Fit the model to the training set\n",
    "nr_epochs = 25\n",
    "batch_size = 32\n",
    "history = model.fit(X_train, y_train, \n",
    "                    epochs = nr_epochs, \n",
    "                    batch_size = batch_size, \n",
    "                    verbose = 1)"
   ]
  },
  {
   "cell_type": "markdown",
   "metadata": {},
   "source": [
    "### Saving Result"
   ]
  },
  {
   "cell_type": "code",
   "execution_count": 13,
   "metadata": {},
   "outputs": [],
   "source": [
    "model.save(modelPath + \"/lstm_model_final\")"
   ]
  },
  {
   "cell_type": "markdown",
   "metadata": {},
   "source": [
    "### Plotting Losses"
   ]
  },
  {
   "cell_type": "code",
   "execution_count": 14,
   "metadata": {},
   "outputs": [],
   "source": [
    "def plot_loss(history, nr_epochs, title):\n",
    "    plt.style.use('ggplot')\n",
    "    plt.figure()\n",
    "    plt.plot(np.arange(1, nr_epochs+1), history.history['loss'], label='train_loss')\n",
    "    \n",
    "    plt.title(title)\n",
    "    plt.xlabel('Epoch #')\n",
    "    plt.ylabel('Loss')\n",
    "    plt.legend(loc='upper right')\n",
    "    plt.show()"
   ]
  },
  {
   "cell_type": "code",
   "execution_count": 15,
   "metadata": {},
   "outputs": [
    {
     "data": {
      "image/png": "[encoded data removed]",
      "text/plain": [
       "<Figure size 432x288 with 1 Axes>"
      ]
     },
     "metadata": {},
     "output_type": "display_data"
    }
   ],
   "source": [
    "plot_loss(history, nr_epochs, 'Training Loss')"
   ]
  }
 ],
 "metadata": {
  "kernelspec": {
   "display_name": "Python 3",
   "language": "python",
   "name": "python3"
  },
  "language_info": {
   "codemirror_mode": {
    "name": "ipython",
    "version": 3
   },
   "file_extension": ".py",
   "mimetype": "text/x-python",
   "name": "python",
   "nbconvert_exporter": "python",
   "pygments_lexer": "ipython3",
   "version": "3.7.4"
  }
 },
 "nbformat": 4,
 "nbformat_minor": 2
}
