{
 "cells": [
  {
   "cell_type": "markdown",
   "metadata": {},
   "source": [
    "# MuchLearningSuchWow - Prediction Analysis\n",
    "\n",
    "This notebook contains the code we used to analyze the predictions made by our LSTM and the LightGBM models."
   ]
  },
  {
   "cell_type": "markdown",
   "metadata": {},
   "source": [
    "### Imports"
   ]
  },
  {
   "cell_type": "code",
   "execution_count": null,
   "metadata": {},
   "outputs": [],
   "source": [
    "import pickle\n",
    "import pandas as pd\n",
    "import matplotlib.pyplot as plt\n",
    "import numpy as np"
   ]
  },
  {
   "cell_type": "markdown",
   "metadata": {},
   "source": [
    "### Data Paths"
   ]
  },
  {
   "cell_type": "code",
   "execution_count": null,
   "metadata": {},
   "outputs": [],
   "source": [
    "inputPath = \"input/m5-forecasting-accuracy/\"\n",
    "submissionPath = \"submissions/\""
   ]
  },
  {
   "cell_type": "markdown",
   "metadata": {},
   "source": [
    "### Loading Data"
   ]
  },
  {
   "cell_type": "code",
   "execution_count": null,
   "metadata": {},
   "outputs": [],
   "source": [
    "# Load predicted sales\n",
    "predicted_sales_lstm = pd.read_csv(submissionPath + \"/lstm_submission.csv\")\n",
    "predicted_sales_lstm = predicted_sales_lstm[predicted_sales_lstm.id.str.contains(\"validation\")]"
   ]
  },
  {
   "cell_type": "code",
   "execution_count": null,
   "metadata": {},
   "outputs": [],
   "source": [
    "# Load predicted sales\n",
    "predicted_sales_lightgbm = pd.read_csv(submissionPath + \"/lightgbm_submission.csv\")\n",
    "predicted_sales_lightgbm = predicted_sales_lightgbm[predicted_sales_lightgbm.id.str.contains(\"validation\")]"
   ]
  },
  {
   "cell_type": "code",
   "execution_count": null,
   "metadata": {},
   "outputs": [],
   "source": [
    "# Load true sales\n",
    "df_sales = pd.read_csv(inputPath + \"/sales_train_evaluation.csv\")"
   ]
  },
  {
   "cell_type": "markdown",
   "metadata": {},
   "source": [
    "### Plotting Predictions vs True Sales"
   ]
  },
  {
   "cell_type": "code",
   "execution_count": null,
   "metadata": {},
   "outputs": [],
   "source": [
    "def plot_pred(predicted_sales_lstm, predicted_sales_lightgbm, true_sales, id_, thing):\n",
    "    fig, ax = plt.subplots()\n",
    "    ax.grid()\n",
    "    \n",
    "    ax.plot(np.arange(1, len(predicted_sales_lstm)+1), predicted_sales_lstm, label='LSTM predictions', color = 'blue')\n",
    "    ax.plot(np.arange(1, len(predicted_sales_lightgbm)+1), predicted_sales_lightgbm, label='LightGBM predictions', color = 'green')\n",
    "    ax.plot(np.arange(1, len(true_sales)+1), true_sales, label='true sales', color = 'red')\n",
    "            \n",
    "    ax.title.set_text(\"Predicted vs True sales of \"+thing+\" \"+id_)\n",
    "    ax.set_xlabel('Day')\n",
    "    ax.set_ylabel('Predicted Sales')\n",
    "    ax.legend(loc='center left', bbox_to_anchor=(1,0.9))\n",
    "    plt.show()"
   ]
  },
  {
   "cell_type": "code",
   "execution_count": null,
   "metadata": {},
   "outputs": [],
   "source": [
    "item_id =  \"HOBBIES_1_001_CA_1\" # \"FOODS_3_367_TX_3\" #\n",
    "predicted_sales_lstm_item = predicted_sales_lstm[predicted_sales_lstm.id.str.contains(item_id)].iloc[:, 1:].mean(axis=0).values\n",
    "predicted_sales_lightgbm_item = predicted_sales_lightgbm[predicted_sales_lightgbm.id.str.contains(item_id)].iloc[:, 1:].mean(axis=0).values\n",
    "true_sales_item = df_sales.loc[df_sales.id.str.contains(item_id), [f'd_{i}' for i in range(1914, 1942)]].values.mean(axis=0)"
   ]
  },
  {
   "cell_type": "code",
   "execution_count": null,
   "metadata": {},
   "outputs": [],
   "source": [
    "plot_pred(predicted_sales_lstm_item, predicted_sales_lightgbm_item, true_sales_item, item_id, \"item\")"
   ]
  },
  {
   "cell_type": "code",
   "execution_count": null,
   "metadata": {},
   "outputs": [],
   "source": [
    "dept_id = \"HOBBIES_1\" # \"FOODS_3\" #\n",
    "predicted_sales_lstm_dept = predicted_sales_lstm[predicted_sales_lstm.id.str.contains(dept_id)].iloc[:, 1:].mean(axis=0).values\n",
    "predicted_sales_lightgbm_dept = predicted_sales_lightgbm[predicted_sales_lightgbm.id.str.contains(dept_id)].iloc[:, 1:].mean(axis=0).values\n",
    "true_sales_dept = df_sales.loc[df_sales.id.str.contains(dept_id), [f'd_{i}' for i in range(1914, 1942)]].values.mean(axis=0)"
   ]
  },
  {
   "cell_type": "code",
   "execution_count": null,
   "metadata": {},
   "outputs": [],
   "source": [
    "plot_pred(predicted_sales_lstm_dept, predicted_sales_lightgbm_dept, true_sales_dept, dept_id, \"department\")"
   ]
  },
  {
   "cell_type": "code",
   "execution_count": null,
   "metadata": {},
   "outputs": [],
   "source": [
    "store_id = \"CA_1\" # \"TX_3\" #\n",
    "predicted_sales_lstm_store = predicted_sales_lstm[predicted_sales_lstm.id.str.contains(store_id)].iloc[:, 1:].mean(axis=0).values\n",
    "predicted_sales_lightgbm_store = predicted_sales_lightgbm[predicted_sales_lightgbm.id.str.contains(store_id)].iloc[:, 1:].mean(axis=0).values\n",
    "true_sales_store = df_sales.loc[df_sales.store_id.str.contains(store_id), [f'd_{i}' for i in range(1914, 1942)]].values.mean(axis=0)"
   ]
  },
  {
   "cell_type": "code",
   "execution_count": null,
   "metadata": {},
   "outputs": [],
   "source": [
    "plot_pred(predicted_sales_lstm_store, predicted_sales_lightgbm_store, true_sales_store, store_id, \"store\")"
   ]
  },
  {
   "cell_type": "code",
   "execution_count": null,
   "metadata": {},
   "outputs": [],
   "source": [
    "state_id =  \"CA\" # \"TX\"\n",
    "predicted_sales_lstm_state = predicted_sales_lstm[predicted_sales_lstm.id.str.contains(state_id)].iloc[:, 1:].mean(axis=0).values\n",
    "predicted_sales_lightgbm_state = predicted_sales_lightgbm[predicted_sales_lightgbm.id.str.contains(state_id)].iloc[:, 1:].mean(axis=0).values\n",
    "true_sales_state = df_sales.loc[df_sales.state_id.str.contains(state_id), [f'd_{i}' for i in range(1914, 1942)]].values.mean(axis=0)"
   ]
  },
  {
   "cell_type": "code",
   "execution_count": null,
   "metadata": {},
   "outputs": [],
   "source": [
    "plot_pred(predicted_sales_lstm_state, predicted_sales_lightgbm_state, true_sales_state, state_id, \"state\")"
   ]
  }
 ],
 "metadata": {
  "kernelspec": {
   "display_name": "Python 3",
   "language": "python",
   "name": "python3"
  },
  "language_info": {
   "codemirror_mode": {
    "name": "ipython",
    "version": 3
   },
   "file_extension": ".py",
   "mimetype": "text/x-python",
   "name": "python",
   "nbconvert_exporter": "python",
   "pygments_lexer": "ipython3",
   "version": "3.7.4"
  }
 },
 "nbformat": 4,
 "nbformat_minor": 2
}
